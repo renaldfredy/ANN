{
  "cells": [
    {
      "cell_type": "markdown",
      "metadata": {
        "id": "view-in-github",
        "colab_type": "text"
      },
      "source": [
        "<a href=\"https://colab.research.google.com/github/renaldfredy/ANN/blob/main/ANN_ML_Individu.ipynb\" target=\"_parent\"><img src=\"https://colab.research.google.com/assets/colab-badge.svg\" alt=\"Open In Colab\"/></a>"
      ]
    },
    {
      "cell_type": "markdown",
      "source": [
        "Name: Renaldy Fredyan\n",
        "\n",
        "NIM: 2301979081\n",
        "\n",
        "\n",
        "This project is dedicated to fulfill an individual assignment **\"ANN and Its Application in Prediction\"** in a Machine Learning class with a lecturer \n",
        "Dr. Ir. Haryono Soeparno, M.Sc.\n",
        "\n",
        "I realize that this project is still far from perfect, therefore I humbly ask for your criticism and suggestions.\n",
        "\n",
        "Thank you for your attention and kindness."
      ],
      "metadata": {
        "id": "QRsZY2c44SMz"
      }
    },
    {
      "cell_type": "markdown",
      "source": [
        "#Library\n",
        "\n",
        "First of all, this program need several library to help author making simple to writing program code without additional function.\n",
        "\n",
        "Disclaimer: This program is built on `Python` programming language and use `Keras` as a API of `Tensorflow` backend of mechine learning library."
      ],
      "metadata": {
        "id": "SyO-uPW257wv"
      }
    },
    {
      "cell_type": "code",
      "execution_count": 1,
      "metadata": {
        "id": "_QdfYv7OkQx1"
      },
      "outputs": [],
      "source": [
        "import numpy as np #the fundamental package for scientific computing in Python\n",
        "import pandas as pd #a software library written for the Python programming language for data manipulation and analysis\n",
        "import matplotlib.pyplot as plt #a plotting library for the Python programming language and its numerical mathematics extension NumPy\n",
        "%matplotlib inline \n",
        "#to enable the inline plotting\n",
        "from sklearn.preprocessing import MinMaxScaler #subtracts the minimum value in the feature and then divides by the range.\n",
        "from tensorflow.keras.preprocessing.sequence import TimeseriesGenerator #to automatically transform both univariate and multivariate time series data into samples, ready to train deep learning models\n",
        "from tensorflow import keras #a deep learning API written in Python, running on top of the machine learning platform TensorFlow.\n",
        "from keras.initializers import RandomNormal #generates a sample of numbers drawn from the normal distribution, otherwise called the Gaussian distribution.\n",
        "from keras.models import Sequential #a linear stack of layers\n",
        "from keras.layers import Dense #a neural network layer that is connected deeply\n",
        "from keras.callbacks import EarlyStopping #a form of regularization used to avoid overfitting when training a learner with an iterative method\n",
        "import warnings #an advance notice of something that will happen, often something unpleasant or dangerous\n",
        "warnings.filterwarnings(\"ignore\")\n",
        "import keras.backend as K\n",
        "from keras.layers import Flatten"
      ]
    },
    {
      "cell_type": "markdown",
      "source": [
        "#Setting Random Value\n",
        "\n",
        "After that, setting random seed to give innitial random number. This code is necessesary to avoid changing result of prediction when programmer try to run the program in the future."
      ],
      "metadata": {
        "id": "3EQbtEzZ8Sk0"
      }
    },
    {
      "cell_type": "code",
      "execution_count": 2,
      "metadata": {
        "colab": {
          "base_uri": "https://localhost:8080/"
        },
        "id": "VZozQhVskmO1",
        "outputId": "91a725a4-a4f0-447b-ea4f-1c0a88cb0ce7"
      },
      "outputs": [
        {
          "output_type": "stream",
          "name": "stdout",
          "text": [
            "[0.29197514]\n"
          ]
        }
      ],
      "source": [
        "seed_value= 0\n",
        "\n",
        "# Set the `PYTHONHASHSEED` environment variable at a fixed value\n",
        "import os\n",
        "os.environ['PYTHONHASHSEED']=str(seed_value)\n",
        "import random\n",
        "random.seed(seed_value)\n",
        "\n",
        "# Set `numpy` pseudo-random generator at a fixed value\n",
        "import numpy as np\n",
        "np.random.seed(seed_value)\n",
        "np.random.seed(1)\n",
        "\n",
        "# Set the `tensorflow` pseudo-random generator at a fixed value\n",
        "import tensorflow as tf\n",
        "tf.random.set_seed(seed_value)\n",
        "\n",
        "print(tf.random.uniform([1]).numpy())"
      ]
    },
    {
      "cell_type": "markdown",
      "source": [
        "#Data Preprocessing"
      ],
      "metadata": {
        "id": "yY8rV0-d_btv"
      }
    },
    {
      "cell_type": "markdown",
      "source": [
        "##Importing the dataset\n",
        "\n",
        "Before this explanation is going to so far, import data is needed as a dataset in this program. It is given by the individual assignment. To make it easy author write those data in csv."
      ],
      "metadata": {
        "id": "nU5G287m_dqs"
      }
    },
    {
      "cell_type": "code",
      "execution_count": 3,
      "metadata": {
        "colab": {
          "base_uri": "https://localhost:8080/",
          "height": 645
        },
        "id": "l7AF9DwZLqk3",
        "outputId": "59376a6e-4890-4837-c40f-3e7966aedc63"
      },
      "outputs": [
        {
          "output_type": "execute_result",
          "data": {
            "text/html": [
              "\n",
              "  <div id=\"df-8f90d054-d64b-48ad-a293-4dc0a2a25a92\">\n",
              "    <div class=\"colab-df-container\">\n",
              "      <div>\n",
              "<style scoped>\n",
              "    .dataframe tbody tr th:only-of-type {\n",
              "        vertical-align: middle;\n",
              "    }\n",
              "\n",
              "    .dataframe tbody tr th {\n",
              "        vertical-align: top;\n",
              "    }\n",
              "\n",
              "    .dataframe thead th {\n",
              "        text-align: right;\n",
              "    }\n",
              "</style>\n",
              "<table border=\"1\" class=\"dataframe\">\n",
              "  <thead>\n",
              "    <tr style=\"text-align: right;\">\n",
              "      <th></th>\n",
              "      <th>Units</th>\n",
              "    </tr>\n",
              "    <tr>\n",
              "      <th>Month</th>\n",
              "      <th></th>\n",
              "    </tr>\n",
              "  </thead>\n",
              "  <tbody>\n",
              "    <tr>\n",
              "      <th>2019-01-01</th>\n",
              "      <td>205</td>\n",
              "    </tr>\n",
              "    <tr>\n",
              "      <th>2019-02-01</th>\n",
              "      <td>196</td>\n",
              "    </tr>\n",
              "    <tr>\n",
              "      <th>2019-03-01</th>\n",
              "      <td>141</td>\n",
              "    </tr>\n",
              "    <tr>\n",
              "      <th>2019-04-01</th>\n",
              "      <td>112</td>\n",
              "    </tr>\n",
              "    <tr>\n",
              "      <th>2019-05-01</th>\n",
              "      <td>163</td>\n",
              "    </tr>\n",
              "    <tr>\n",
              "      <th>2019-06-01</th>\n",
              "      <td>242</td>\n",
              "    </tr>\n",
              "    <tr>\n",
              "      <th>2019-07-01</th>\n",
              "      <td>816</td>\n",
              "    </tr>\n",
              "    <tr>\n",
              "      <th>2019-08-01</th>\n",
              "      <td>1043</td>\n",
              "    </tr>\n",
              "    <tr>\n",
              "      <th>2019-09-01</th>\n",
              "      <td>950</td>\n",
              "    </tr>\n",
              "    <tr>\n",
              "      <th>2019-10-01</th>\n",
              "      <td>529</td>\n",
              "    </tr>\n",
              "    <tr>\n",
              "      <th>2019-11-01</th>\n",
              "      <td>308</td>\n",
              "    </tr>\n",
              "    <tr>\n",
              "      <th>2019-12-01</th>\n",
              "      <td>214</td>\n",
              "    </tr>\n",
              "    <tr>\n",
              "      <th>2020-01-01</th>\n",
              "      <td>176</td>\n",
              "    </tr>\n",
              "    <tr>\n",
              "      <th>2020-02-01</th>\n",
              "      <td>146</td>\n",
              "    </tr>\n",
              "    <tr>\n",
              "      <th>2020-03-01</th>\n",
              "      <td>109</td>\n",
              "    </tr>\n",
              "    <tr>\n",
              "      <th>2020-04-01</th>\n",
              "      <td>110</td>\n",
              "    </tr>\n",
              "    <tr>\n",
              "      <th>2020-05-01</th>\n",
              "      <td>135</td>\n",
              "    </tr>\n",
              "    <tr>\n",
              "      <th>2020-06-01</th>\n",
              "      <td>160</td>\n",
              "    </tr>\n",
              "  </tbody>\n",
              "</table>\n",
              "</div>\n",
              "      <button class=\"colab-df-convert\" onclick=\"convertToInteractive('df-8f90d054-d64b-48ad-a293-4dc0a2a25a92')\"\n",
              "              title=\"Convert this dataframe to an interactive table.\"\n",
              "              style=\"display:none;\">\n",
              "        \n",
              "  <svg xmlns=\"http://www.w3.org/2000/svg\" height=\"24px\"viewBox=\"0 0 24 24\"\n",
              "       width=\"24px\">\n",
              "    <path d=\"M0 0h24v24H0V0z\" fill=\"none\"/>\n",
              "    <path d=\"M18.56 5.44l.94 2.06.94-2.06 2.06-.94-2.06-.94-.94-2.06-.94 2.06-2.06.94zm-11 1L8.5 8.5l.94-2.06 2.06-.94-2.06-.94L8.5 2.5l-.94 2.06-2.06.94zm10 10l.94 2.06.94-2.06 2.06-.94-2.06-.94-.94-2.06-.94 2.06-2.06.94z\"/><path d=\"M17.41 7.96l-1.37-1.37c-.4-.4-.92-.59-1.43-.59-.52 0-1.04.2-1.43.59L10.3 9.45l-7.72 7.72c-.78.78-.78 2.05 0 2.83L4 21.41c.39.39.9.59 1.41.59.51 0 1.02-.2 1.41-.59l7.78-7.78 2.81-2.81c.8-.78.8-2.07 0-2.86zM5.41 20L4 18.59l7.72-7.72 1.47 1.35L5.41 20z\"/>\n",
              "  </svg>\n",
              "      </button>\n",
              "      \n",
              "  <style>\n",
              "    .colab-df-container {\n",
              "      display:flex;\n",
              "      flex-wrap:wrap;\n",
              "      gap: 12px;\n",
              "    }\n",
              "\n",
              "    .colab-df-convert {\n",
              "      background-color: #E8F0FE;\n",
              "      border: none;\n",
              "      border-radius: 50%;\n",
              "      cursor: pointer;\n",
              "      display: none;\n",
              "      fill: #1967D2;\n",
              "      height: 32px;\n",
              "      padding: 0 0 0 0;\n",
              "      width: 32px;\n",
              "    }\n",
              "\n",
              "    .colab-df-convert:hover {\n",
              "      background-color: #E2EBFA;\n",
              "      box-shadow: 0px 1px 2px rgba(60, 64, 67, 0.3), 0px 1px 3px 1px rgba(60, 64, 67, 0.15);\n",
              "      fill: #174EA6;\n",
              "    }\n",
              "\n",
              "    [theme=dark] .colab-df-convert {\n",
              "      background-color: #3B4455;\n",
              "      fill: #D2E3FC;\n",
              "    }\n",
              "\n",
              "    [theme=dark] .colab-df-convert:hover {\n",
              "      background-color: #434B5C;\n",
              "      box-shadow: 0px 1px 3px 1px rgba(0, 0, 0, 0.15);\n",
              "      filter: drop-shadow(0px 1px 2px rgba(0, 0, 0, 0.3));\n",
              "      fill: #FFFFFF;\n",
              "    }\n",
              "  </style>\n",
              "\n",
              "      <script>\n",
              "        const buttonEl =\n",
              "          document.querySelector('#df-8f90d054-d64b-48ad-a293-4dc0a2a25a92 button.colab-df-convert');\n",
              "        buttonEl.style.display =\n",
              "          google.colab.kernel.accessAllowed ? 'block' : 'none';\n",
              "\n",
              "        async function convertToInteractive(key) {\n",
              "          const element = document.querySelector('#df-8f90d054-d64b-48ad-a293-4dc0a2a25a92');\n",
              "          const dataTable =\n",
              "            await google.colab.kernel.invokeFunction('convertToInteractive',\n",
              "                                                     [key], {});\n",
              "          if (!dataTable) return;\n",
              "\n",
              "          const docLinkHtml = 'Like what you see? Visit the ' +\n",
              "            '<a target=\"_blank\" href=https://colab.research.google.com/notebooks/data_table.ipynb>data table notebook</a>'\n",
              "            + ' to learn more about interactive tables.';\n",
              "          element.innerHTML = '';\n",
              "          dataTable['output_type'] = 'display_data';\n",
              "          await google.colab.output.renderOutput(dataTable, element);\n",
              "          const docLink = document.createElement('div');\n",
              "          docLink.innerHTML = docLinkHtml;\n",
              "          element.appendChild(docLink);\n",
              "        }\n",
              "      </script>\n",
              "    </div>\n",
              "  </div>\n",
              "  "
            ],
            "text/plain": [
              "            Units\n",
              "Month            \n",
              "2019-01-01    205\n",
              "2019-02-01    196\n",
              "2019-03-01    141\n",
              "2019-04-01    112\n",
              "2019-05-01    163\n",
              "2019-06-01    242\n",
              "2019-07-01    816\n",
              "2019-08-01   1043\n",
              "2019-09-01    950\n",
              "2019-10-01    529\n",
              "2019-11-01    308\n",
              "2019-12-01    214\n",
              "2020-01-01    176\n",
              "2020-02-01    146\n",
              "2020-03-01    109\n",
              "2020-04-01    110\n",
              "2020-05-01    135\n",
              "2020-06-01    160"
            ]
          },
          "metadata": {},
          "execution_count": 3
        }
      ],
      "source": [
        "df = pd.read_csv('/content/sales _of_mobile_phones.csv')\n",
        "df.Month = pd.to_datetime(df.Month)\n",
        "df = df.set_index(\"Month\")\n",
        "df"
      ]
    },
    {
      "cell_type": "markdown",
      "source": [
        "##Plot Dataset\n",
        "\n",
        "After importing data, it can be plotting to see visualization of data."
      ],
      "metadata": {
        "id": "4rSHJAOl_lkq"
      }
    },
    {
      "cell_type": "code",
      "source": [
        "plt.figure(figsize=(20, 5))\n",
        "plt.plot(df.index, df['Units'])\n",
        "plt.legend(loc='best', fontsize='xx-large')\n",
        "plt.xticks(fontsize=18)\n",
        "plt.yticks(fontsize=16)\n",
        "plt.show()"
      ],
      "metadata": {
        "colab": {
          "base_uri": "https://localhost:8080/",
          "height": 283
        },
        "id": "wXZxYxntmvu4",
        "outputId": "89852441-11d6-4673-d77f-0a94cf1b9299"
      },
      "execution_count": 4,
      "outputs": [
        {
          "output_type": "stream",
          "name": "stderr",
          "text": [
            "No handles with labels found to put in legend.\n"
          ]
        },
        {
          "output_type": "display_data",
          "data": {
            "image/png": "[encoded data removed]",
            "text/plain": [
              "<Figure size 1440x360 with 1 Axes>"
            ]
          },
          "metadata": {
            "needs_background": "light"
          }
        }
      ]
    },
    {
      "cell_type": "code",
      "execution_count": 5,
      "metadata": {
        "id": "Vc3NCgN3GPsJ"
      },
      "outputs": [],
      "source": [
        "train = df"
      ]
    },
    {
      "cell_type": "markdown",
      "source": [
        "##Feature Scaling\n",
        "\n",
        "Based on question\n",
        "b. Perform data normalization (data transformation) from the sales results to the form of data to be processed by ANN in accordance with the binary sigmoid activation function. Use transformation, `f (x) = 0.8 ((x - min) / (max - min)) + 0.1`;\n",
        "\n",
        "Author scale the data using library `MinMaxScaler` but this library only use general Normalization, while in that question given by function that alread modify, so author make to comprimise using code in lines 3 below:"
      ],
      "metadata": {
        "id": "mVNdFezZ_2Pn"
      }
    },
    {
      "cell_type": "code",
      "execution_count": 6,
      "metadata": {
        "colab": {
          "base_uri": "https://localhost:8080/"
        },
        "id": "0viWscPzn7C1",
        "outputId": "8b8f5458-1fd4-4864-c83c-b10d4fe7bf52"
      },
      "outputs": [
        {
          "output_type": "execute_result",
          "data": {
            "text/plain": [
              "array([[0.18222698],\n",
              "       [0.1745182 ],\n",
              "       [0.12740899],\n",
              "       [0.10256959],\n",
              "       [0.14625268],\n",
              "       [0.21391863],\n",
              "       [0.70556745],\n",
              "       [0.9       ],\n",
              "       [0.82034261],\n",
              "       [0.45974304],\n",
              "       [0.27044968],\n",
              "       [0.18993576],\n",
              "       [0.15738758],\n",
              "       [0.13169165],\n",
              "       [0.1       ],\n",
              "       [0.10085653],\n",
              "       [0.12226981],\n",
              "       [0.14368308]])"
            ]
          },
          "metadata": {},
          "execution_count": 6
        }
      ],
      "source": [
        "scaler = MinMaxScaler()\n",
        "scaler.fit(train)\n",
        "train = ((0.8*(scaler.transform(train)))+0.1)\n",
        "train\n",
        "# len(train)"
      ]
    },
    {
      "cell_type": "markdown",
      "source": [
        "Now this ANN will be performing supervised machine learning, so it needs to create a labelled training set.   Those training data will have inputs and expected output labels for those inputs.   Treating this as a regression problem, this ANN will learn to associate certain values to patern the data,  making the training inputs 12 values of month and the training outputs 1 values of month. Author use `TimeseriesGenerator` to generate algorithm."
      ],
      "metadata": {
        "id": "_cADwK3CKbMu"
      }
    },
    {
      "cell_type": "code",
      "execution_count": 7,
      "metadata": {
        "id": "YcVaXdvdn_-C"
      },
      "outputs": [],
      "source": [
        "n_input = 12\n",
        "t_gen = TimeseriesGenerator(train, train, length=12, batch_size=1, stride=1)\n"
      ]
    },
    {
      "cell_type": "markdown",
      "source": [
        "#Build The Model"
      ],
      "metadata": {
        "id": "s284pxlR_6gm"
      }
    },
    {
      "cell_type": "markdown",
      "source": [
        "##Building the Neural Network layer by layer\n",
        "\n",
        "Design ANN Architecture based on question\n",
        "a. Design an ANN Architecture with 1 hidden layer, with complete notations\n",
        "Hints: Determine the dimension of input layer n = 12, output layer m = 1; For p, is calculated as follows: p = (1/3 x n) + m;\n",
        "\n",
        "p  = (1/3 x 12) + 1\n",
        "p = 5\n",
        "\n",
        "in this code author write *units or neuron* as 5 \n",
        "\n",
        "Dense means ANN or NN or Fully Connected Network (FCN)\n",
        "\n",
        "This architecture has Input Layer with n = 12, Hidden Layer 5, and Ouptut Layer 1. \n",
        "\n",
        "![alt text](https://user-images.githubusercontent.com/56014075/150958006-181c7c25-ef34-493c-8f17-2391847605f1.png)\n",
        "\n",
        "For the weight and bias matrix as shown in below.\n",
        "\n",
        "![alt text](https://user-images.githubusercontent.com/56014075/150957449-0860ac05-b5b7-482e-ac5c-5a4518b39fc4.png)\n"
      ],
      "metadata": {
        "id": "Q0V4v89xAFm_"
      }
    },
    {
      "cell_type": "markdown",
      "source": [
        "This figure is to explain mathematical computation in every single neuron\n",
        "An ANN is made of many interconnected \"**neurons**\".\n",
        "\n",
        "![alt text](https://www.cognizantsoftvision.com/wp-content/uploads/2019/01/Neural_Networks_in_your_browser_1.gif)\n",
        "\n",
        "Each neuron takes in some floating point numbers (e.g. 1.0, 0.5, -1.0) and multiplies them by some other floating point numbers (e.g. 0.7, 0.6, 1.4) known as **weights** (1.0 * 0.7 = 0.7, 0.5 * 0.6 = 0.3, -1.0 * 1.4 = -1.4).  The weights act as a mechanism to focus on, or ignore, certain inputs.  The weighted inputs then get summed together (e.g. 0.7 + 0.3 + -1.4 = -0.4) along with a **bias** value (e.g. -0.4 + ** -0.1 ** = -0.5).  \n",
        "\n",
        "The summed value (x) is now transformed into an output value (y) according to the neuron's **activation function**  (y = **f**(x)).  Some popular activation functions are shown below: \n",
        "\n",
        "![alt text](https://cdn-images-1.medium.com/max/1600/1*RD0lIYqB5L2LrI2VTIZqGw.png)\n",
        "\n",
        "e.g. -0.5 --> -0.05 if people use the **Leaky Rectified Linear Unit (Leaky ReLU)** activation function: y = f(x) = f(-0.5) = max(0.1*-0.5, -0.5) = max(-0.05, -0.5) = -0.05\n",
        "\n"
      ],
      "metadata": {
        "id": "Q7EPJBYgJGon"
      }
    },
    {
      "cell_type": "markdown",
      "source": [
        "##ANN Layer\n",
        "Move on to the program, this model use `sequential` data as a input, activation use `sigmoid` for all layer, optimize use `adam`, and error number use `mse`."
      ],
      "metadata": {
        "id": "0bGVEW-AwLjO"
      }
    },
    {
      "cell_type": "code",
      "execution_count": 8,
      "metadata": {
        "id": "GKP9Z4uu4cFD"
      },
      "outputs": [],
      "source": [
        "model = Sequential()\n",
        "model.add(Dense(5, activation = 'sigmoid', input_shape=(12,1)))\n",
        "model.add(Flatten())\n",
        "model.add(Dense(1, activation = 'sigmoid'))\n",
        "model.compile(optimizer='adam', loss='mse')\n",
        "\n",
        "earlystopper_1 = EarlyStopping(monitor='val_loss', patience=100, verbose=0)"
      ]
    },
    {
      "cell_type": "markdown",
      "source": [
        "##Summarising Model\n",
        "This summary is to see typical Layer, output shape, and parameter of model."
      ],
      "metadata": {
        "id": "9CldYWV2AI3f"
      }
    },
    {
      "cell_type": "code",
      "source": [
        "model.summary()"
      ],
      "metadata": {
        "colab": {
          "base_uri": "https://localhost:8080/"
        },
        "id": "RXqgJoAJG4dp",
        "outputId": "311b99f7-4c2a-42e1-8680-dcc2cc2d9d51"
      },
      "execution_count": 9,
      "outputs": [
        {
          "output_type": "stream",
          "name": "stdout",
          "text": [
            "Model: \"sequential\"\n",
            "_________________________________________________________________\n",
            " Layer (type)                Output Shape              Param #   \n",
            "=================================================================\n",
            " dense (Dense)               (None, 12, 5)             10        \n",
            "                                                                 \n",
            " flatten (Flatten)           (None, 60)                0         \n",
            "                                                                 \n",
            " dense_1 (Dense)             (None, 1)                 61        \n",
            "                                                                 \n",
            "=================================================================\n",
            "Total params: 71\n",
            "Trainable params: 71\n",
            "Non-trainable params: 0\n",
            "_________________________________________________________________\n"
          ]
        }
      ]
    },
    {
      "cell_type": "markdown",
      "source": [
        "##Fitting The Model\n",
        "\n",
        "A measure of how well a machine learning model generalizes to similar data to that on which it was trained."
      ],
      "metadata": {
        "id": "fcgsHrxzARSs"
      }
    },
    {
      "cell_type": "code",
      "execution_count": 10,
      "metadata": {
        "colab": {
          "base_uri": "https://localhost:8080/"
        },
        "id": "xqm9Lvh44xRw",
        "outputId": "4dd4a6d0-2809-4357-ec34-7ea8359e3b02"
      },
      "outputs": [
        {
          "output_type": "stream",
          "name": "stdout",
          "text": [
            "Epoch 1/100\n",
            "6/6 [==============================] - 1s 81ms/step - loss: 0.2211 - val_loss: 0.1957\n",
            "Epoch 2/100\n",
            "6/6 [==============================] - 0s 26ms/step - loss: 0.1783 - val_loss: 0.1557\n",
            "Epoch 3/100\n",
            "6/6 [==============================] - 0s 25ms/step - loss: 0.1406 - val_loss: 0.1207\n",
            "Epoch 4/100\n",
            "6/6 [==============================] - 0s 28ms/step - loss: 0.1078 - val_loss: 0.0916\n",
            "Epoch 5/100\n",
            "6/6 [==============================] - 0s 27ms/step - loss: 0.0818 - val_loss: 0.0683\n",
            "Epoch 6/100\n",
            "6/6 [==============================] - 0s 27ms/step - loss: 0.0602 - val_loss: 0.0507\n",
            "Epoch 7/100\n",
            "6/6 [==============================] - 0s 29ms/step - loss: 0.0446 - val_loss: 0.0375\n",
            "Epoch 8/100\n",
            "6/6 [==============================] - 0s 34ms/step - loss: 0.0334 - val_loss: 0.0277\n",
            "Epoch 9/100\n",
            "6/6 [==============================] - 0s 33ms/step - loss: 0.0248 - val_loss: 0.0207\n",
            "Epoch 10/100\n",
            "6/6 [==============================] - 0s 26ms/step - loss: 0.0185 - val_loss: 0.0157\n",
            "Epoch 11/100\n",
            "6/6 [==============================] - 0s 28ms/step - loss: 0.0141 - val_loss: 0.0121\n",
            "Epoch 12/100\n",
            "6/6 [==============================] - 0s 27ms/step - loss: 0.0108 - val_loss: 0.0094\n",
            "Epoch 13/100\n",
            "6/6 [==============================] - 0s 27ms/step - loss: 0.0086 - val_loss: 0.0075\n",
            "Epoch 14/100\n",
            "6/6 [==============================] - 0s 24ms/step - loss: 0.0068 - val_loss: 0.0060\n",
            "Epoch 15/100\n",
            "6/6 [==============================] - 0s 24ms/step - loss: 0.0054 - val_loss: 0.0049\n",
            "Epoch 16/100\n",
            "6/6 [==============================] - 0s 39ms/step - loss: 0.0045 - val_loss: 0.0040\n",
            "Epoch 17/100\n",
            "6/6 [==============================] - 0s 23ms/step - loss: 0.0037 - val_loss: 0.0033\n",
            "Epoch 18/100\n",
            "6/6 [==============================] - 0s 36ms/step - loss: 0.0031 - val_loss: 0.0028\n",
            "Epoch 19/100\n",
            "6/6 [==============================] - 0s 30ms/step - loss: 0.0026 - val_loss: 0.0023\n",
            "Epoch 20/100\n",
            "6/6 [==============================] - 0s 20ms/step - loss: 0.0022 - val_loss: 0.0020\n",
            "Epoch 21/100\n",
            "6/6 [==============================] - 0s 24ms/step - loss: 0.0019 - val_loss: 0.0017\n",
            "Epoch 22/100\n",
            "6/6 [==============================] - 0s 24ms/step - loss: 0.0017 - val_loss: 0.0015\n",
            "Epoch 23/100\n",
            "6/6 [==============================] - 0s 32ms/step - loss: 0.0014 - val_loss: 0.0013\n",
            "Epoch 24/100\n",
            "6/6 [==============================] - 0s 29ms/step - loss: 0.0013 - val_loss: 0.0012\n",
            "Epoch 25/100\n",
            "6/6 [==============================] - 0s 28ms/step - loss: 0.0011 - val_loss: 0.0010\n",
            "Epoch 26/100\n",
            "6/6 [==============================] - 0s 27ms/step - loss: 0.0010 - val_loss: 9.4649e-04\n",
            "Epoch 27/100\n",
            "6/6 [==============================] - 0s 39ms/step - loss: 9.2975e-04 - val_loss: 8.6050e-04\n",
            "Epoch 28/100\n",
            "6/6 [==============================] - 0s 26ms/step - loss: 8.3322e-04 - val_loss: 7.9735e-04\n",
            "Epoch 29/100\n",
            "6/6 [==============================] - 0s 37ms/step - loss: 7.8756e-04 - val_loss: 7.3740e-04\n",
            "Epoch 30/100\n",
            "6/6 [==============================] - 0s 24ms/step - loss: 7.3048e-04 - val_loss: 6.8883e-04\n",
            "Epoch 31/100\n",
            "6/6 [==============================] - 0s 38ms/step - loss: 6.7604e-04 - val_loss: 6.5254e-04\n",
            "Epoch 32/100\n",
            "6/6 [==============================] - 0s 41ms/step - loss: 6.4378e-04 - val_loss: 6.2014e-04\n",
            "Epoch 33/100\n",
            "6/6 [==============================] - 0s 35ms/step - loss: 6.1318e-04 - val_loss: 5.9293e-04\n",
            "Epoch 34/100\n",
            "6/6 [==============================] - 0s 42ms/step - loss: 5.8372e-04 - val_loss: 5.7186e-04\n",
            "Epoch 35/100\n",
            "6/6 [==============================] - 0s 30ms/step - loss: 5.6410e-04 - val_loss: 5.5315e-04\n",
            "Epoch 36/100\n",
            "6/6 [==============================] - 0s 27ms/step - loss: 5.5137e-04 - val_loss: 5.3536e-04\n",
            "Epoch 37/100\n",
            "6/6 [==============================] - 0s 27ms/step - loss: 5.3200e-04 - val_loss: 5.2217e-04\n",
            "Epoch 38/100\n",
            "6/6 [==============================] - 0s 24ms/step - loss: 5.1842e-04 - val_loss: 5.1151e-04\n",
            "Epoch 39/100\n",
            "6/6 [==============================] - 0s 25ms/step - loss: 5.0707e-04 - val_loss: 5.0323e-04\n",
            "Epoch 40/100\n",
            "6/6 [==============================] - 0s 36ms/step - loss: 5.0460e-04 - val_loss: 4.9355e-04\n",
            "Epoch 41/100\n",
            "6/6 [==============================] - 0s 32ms/step - loss: 4.9211e-04 - val_loss: 4.8726e-04\n",
            "Epoch 42/100\n",
            "6/6 [==============================] - 0s 54ms/step - loss: 4.8422e-04 - val_loss: 4.8415e-04\n",
            "Epoch 43/100\n",
            "6/6 [==============================] - 0s 27ms/step - loss: 4.8245e-04 - val_loss: 4.7844e-04\n",
            "Epoch 44/100\n",
            "6/6 [==============================] - 0s 28ms/step - loss: 4.7724e-04 - val_loss: 4.7416e-04\n",
            "Epoch 45/100\n",
            "6/6 [==============================] - 0s 30ms/step - loss: 4.7502e-04 - val_loss: 4.7011e-04\n",
            "Epoch 46/100\n",
            "6/6 [==============================] - 0s 27ms/step - loss: 4.6950e-04 - val_loss: 4.6797e-04\n",
            "Epoch 47/100\n",
            "6/6 [==============================] - 0s 26ms/step - loss: 4.6785e-04 - val_loss: 4.6555e-04\n",
            "Epoch 48/100\n",
            "6/6 [==============================] - 0s 26ms/step - loss: 4.6633e-04 - val_loss: 4.6343e-04\n",
            "Epoch 49/100\n",
            "6/6 [==============================] - 0s 27ms/step - loss: 4.6296e-04 - val_loss: 4.6266e-04\n",
            "Epoch 50/100\n",
            "6/6 [==============================] - 0s 26ms/step - loss: 4.6270e-04 - val_loss: 4.6112e-04\n",
            "Epoch 51/100\n",
            "6/6 [==============================] - 0s 30ms/step - loss: 4.6164e-04 - val_loss: 4.5970e-04\n",
            "Epoch 52/100\n",
            "6/6 [==============================] - 0s 24ms/step - loss: 4.6418e-04 - val_loss: 4.5817e-04\n",
            "Epoch 53/100\n",
            "6/6 [==============================] - 0s 31ms/step - loss: 4.5880e-04 - val_loss: 4.5773e-04\n",
            "Epoch 54/100\n",
            "6/6 [==============================] - 0s 28ms/step - loss: 4.5929e-04 - val_loss: 4.5704e-04\n",
            "Epoch 55/100\n",
            "6/6 [==============================] - 0s 60ms/step - loss: 4.5760e-04 - val_loss: 4.5678e-04\n",
            "Epoch 56/100\n",
            "6/6 [==============================] - 0s 31ms/step - loss: 4.5760e-04 - val_loss: 4.5643e-04\n",
            "Epoch 57/100\n",
            "6/6 [==============================] - 0s 24ms/step - loss: 4.5715e-04 - val_loss: 4.5605e-04\n",
            "Epoch 58/100\n",
            "6/6 [==============================] - 0s 31ms/step - loss: 4.5642e-04 - val_loss: 4.5579e-04\n",
            "Epoch 59/100\n",
            "6/6 [==============================] - 0s 29ms/step - loss: 4.5614e-04 - val_loss: 4.5559e-04\n",
            "Epoch 60/100\n",
            "6/6 [==============================] - 0s 25ms/step - loss: 4.5632e-04 - val_loss: 4.5518e-04\n",
            "Epoch 61/100\n",
            "6/6 [==============================] - 0s 24ms/step - loss: 4.5662e-04 - val_loss: 4.5496e-04\n",
            "Epoch 62/100\n",
            "6/6 [==============================] - 0s 26ms/step - loss: 4.5613e-04 - val_loss: 4.5478e-04\n",
            "Epoch 63/100\n",
            "6/6 [==============================] - 0s 36ms/step - loss: 4.5568e-04 - val_loss: 4.5463e-04\n",
            "Epoch 64/100\n",
            "6/6 [==============================] - 0s 40ms/step - loss: 4.5495e-04 - val_loss: 4.5439e-04\n",
            "Epoch 65/100\n",
            "6/6 [==============================] - 0s 29ms/step - loss: 4.5673e-04 - val_loss: 4.5402e-04\n",
            "Epoch 66/100\n",
            "6/6 [==============================] - 0s 35ms/step - loss: 4.5517e-04 - val_loss: 4.5381e-04\n",
            "Epoch 67/100\n",
            "6/6 [==============================] - 0s 33ms/step - loss: 4.5797e-04 - val_loss: 4.5382e-04\n",
            "Epoch 68/100\n",
            "6/6 [==============================] - 0s 26ms/step - loss: 4.5483e-04 - val_loss: 4.5360e-04\n",
            "Epoch 69/100\n",
            "6/6 [==============================] - 0s 25ms/step - loss: 4.5422e-04 - val_loss: 4.5339e-04\n",
            "Epoch 70/100\n",
            "6/6 [==============================] - 0s 25ms/step - loss: 4.5529e-04 - val_loss: 4.5332e-04\n",
            "Epoch 71/100\n",
            "6/6 [==============================] - 0s 26ms/step - loss: 4.5572e-04 - val_loss: 4.5325e-04\n",
            "Epoch 72/100\n",
            "6/6 [==============================] - 0s 39ms/step - loss: 4.5499e-04 - val_loss: 4.5292e-04\n",
            "Epoch 73/100\n",
            "6/6 [==============================] - 0s 28ms/step - loss: 4.5370e-04 - val_loss: 4.5276e-04\n",
            "Epoch 74/100\n",
            "6/6 [==============================] - 0s 47ms/step - loss: 4.5627e-04 - val_loss: 4.5257e-04\n",
            "Epoch 75/100\n",
            "6/6 [==============================] - 0s 28ms/step - loss: 4.5614e-04 - val_loss: 4.5248e-04\n",
            "Epoch 76/100\n",
            "6/6 [==============================] - 0s 40ms/step - loss: 4.5384e-04 - val_loss: 4.5228e-04\n",
            "Epoch 77/100\n",
            "6/6 [==============================] - 0s 26ms/step - loss: 4.5302e-04 - val_loss: 4.5210e-04\n",
            "Epoch 78/100\n",
            "6/6 [==============================] - 0s 25ms/step - loss: 4.5278e-04 - val_loss: 4.5193e-04\n",
            "Epoch 79/100\n",
            "6/6 [==============================] - 0s 27ms/step - loss: 4.5258e-04 - val_loss: 4.5178e-04\n",
            "Epoch 80/100\n",
            "6/6 [==============================] - 0s 52ms/step - loss: 4.5319e-04 - val_loss: 4.5162e-04\n",
            "Epoch 81/100\n",
            "6/6 [==============================] - 0s 23ms/step - loss: 4.5559e-04 - val_loss: 4.5155e-04\n",
            "Epoch 82/100\n",
            "6/6 [==============================] - 0s 33ms/step - loss: 4.5480e-04 - val_loss: 4.5127e-04\n",
            "Epoch 83/100\n",
            "6/6 [==============================] - 0s 34ms/step - loss: 4.5291e-04 - val_loss: 4.5114e-04\n",
            "Epoch 84/100\n",
            "6/6 [==============================] - 0s 36ms/step - loss: 4.5300e-04 - val_loss: 4.5097e-04\n",
            "Epoch 85/100\n",
            "6/6 [==============================] - 0s 24ms/step - loss: 4.5283e-04 - val_loss: 4.5078e-04\n",
            "Epoch 86/100\n",
            "6/6 [==============================] - 0s 42ms/step - loss: 4.5155e-04 - val_loss: 4.5062e-04\n",
            "Epoch 87/100\n",
            "6/6 [==============================] - 0s 24ms/step - loss: 4.5186e-04 - val_loss: 4.5046e-04\n",
            "Epoch 88/100\n",
            "6/6 [==============================] - 0s 30ms/step - loss: 4.5261e-04 - val_loss: 4.5027e-04\n",
            "Epoch 89/100\n",
            "6/6 [==============================] - 0s 27ms/step - loss: 4.5373e-04 - val_loss: 4.5016e-04\n",
            "Epoch 90/100\n",
            "6/6 [==============================] - 0s 22ms/step - loss: 4.5478e-04 - val_loss: 4.4995e-04\n",
            "Epoch 91/100\n",
            "6/6 [==============================] - 0s 34ms/step - loss: 4.5124e-04 - val_loss: 4.4982e-04\n",
            "Epoch 92/100\n",
            "6/6 [==============================] - 0s 12ms/step - loss: 4.5164e-04 - val_loss: 4.4957e-04\n",
            "Epoch 93/100\n",
            "6/6 [==============================] - 0s 13ms/step - loss: 4.5292e-04 - val_loss: 4.4943e-04\n",
            "Epoch 94/100\n",
            "6/6 [==============================] - 0s 14ms/step - loss: 4.5265e-04 - val_loss: 4.4923e-04\n",
            "Epoch 95/100\n",
            "6/6 [==============================] - 0s 21ms/step - loss: 4.5171e-04 - val_loss: 4.4904e-04\n",
            "Epoch 96/100\n",
            "6/6 [==============================] - 0s 13ms/step - loss: 4.5212e-04 - val_loss: 4.4887e-04\n",
            "Epoch 97/100\n",
            "6/6 [==============================] - 0s 13ms/step - loss: 4.5079e-04 - val_loss: 4.4868e-04\n",
            "Epoch 98/100\n",
            "6/6 [==============================] - 0s 15ms/step - loss: 4.4959e-04 - val_loss: 4.4850e-04\n",
            "Epoch 99/100\n",
            "6/6 [==============================] - 0s 12ms/step - loss: 4.4933e-04 - val_loss: 4.4833e-04\n",
            "Epoch 100/100\n",
            "6/6 [==============================] - 0s 13ms/step - loss: 4.5015e-04 - val_loss: 4.4813e-04\n"
          ]
        }
      ],
      "source": [
        "Simple_ANN_history = model.fit_generator(generator=t_gen, epochs = 100, validation_data=t_gen, callbacks=[earlystopper_1])\n"
      ]
    },
    {
      "cell_type": "markdown",
      "source": [
        "##Plot Loss\n",
        "\n",
        "Plotting loss can help to recognise of the error of the model, comparing with validation data to move according to the number of epoch."
      ],
      "metadata": {
        "id": "iOFb-0QHAcx3"
      }
    },
    {
      "cell_type": "code",
      "source": [
        "def plot_loss(history, title):\n",
        "    plt.figure(figsize=(10,6))\n",
        "    plt.plot(history.history['loss'], label='Train')\n",
        "    plt.plot(history.history['val_loss'], label='Validation')\n",
        "    plt.title(title)\n",
        "    plt.xlabel('Nb Epochs')\n",
        "    plt.ylabel('Loss')\n",
        "    plt.legend()\n",
        "    plt.show()\n",
        "    \n",
        "    loss = history.history['loss']\n",
        "    min_idx = np.argmin(loss)\n",
        "    min_loss = loss[min_idx]\n",
        "    print('Minimum loss of {} reached at epoch {}'.format(min_loss, min_idx))\n",
        "    \n",
        "    val_loss = history.history['val_loss']\n",
        "    min_idx = np.argmin(val_loss)\n",
        "    min_val_loss = val_loss[min_idx]\n",
        "    print('Minimum validation loss of {} reached at epoch {}'.format(min_val_loss, min_idx))"
      ],
      "metadata": {
        "id": "gaa0z_P5y5UC"
      },
      "execution_count": 11,
      "outputs": []
    },
    {
      "cell_type": "code",
      "source": [
        "plot_loss(Simple_ANN_history, 'Simple ANN - Train & Validation Loss')"
      ],
      "metadata": {
        "colab": {
          "base_uri": "https://localhost:8080/",
          "height": 439
        },
        "id": "0ZHAnSToy6LZ",
        "outputId": "7ff8175b-e5a6-429e-9c55-3747327dd212"
      },
      "execution_count": 12,
      "outputs": [
        {
          "output_type": "display_data",
          "data": {
            "image/png": "[encoded data removed]",
            "text/plain": [
              "<Figure size 720x432 with 1 Axes>"
            ]
          },
          "metadata": {
            "needs_background": "light"
          }
        },
        {
          "output_type": "stream",
          "name": "stdout",
          "text": [
            "Minimum loss of 0.00044933296157978475 reached at epoch 98\n",
            "Minimum validation loss of 0.0004481292562559247 reached at epoch 99\n"
          ]
        }
      ]
    },
    {
      "cell_type": "markdown",
      "source": [
        "#Making The Predictions\n",
        "\n",
        "The last of making model is to predict data."
      ],
      "metadata": {
        "id": "nRHyPi_oAi7f"
      }
    },
    {
      "cell_type": "code",
      "execution_count": 13,
      "metadata": {
        "id": "QjqlHO59Jo79",
        "colab": {
          "base_uri": "https://localhost:8080/"
        },
        "outputId": "d249c024-2cda-4032-aeb2-4f4112a39e07"
      },
      "outputs": [
        {
          "output_type": "execute_result",
          "data": {
            "text/plain": [
              "array([[[0.70556745],\n",
              "        [0.9       ],\n",
              "        [0.82034261],\n",
              "        [0.45974304],\n",
              "        [0.27044968],\n",
              "        [0.18993576],\n",
              "        [0.15738758],\n",
              "        [0.13169165],\n",
              "        [0.1       ],\n",
              "        [0.10085653],\n",
              "        [0.12226981],\n",
              "        [0.14368308]]])"
            ]
          },
          "metadata": {},
          "execution_count": 13
        }
      ],
      "source": [
        "pred_list = []\n",
        "\n",
        "batch = train[-n_input:].reshape((1, n_input, 1))\n",
        "batch"
      ]
    },
    {
      "cell_type": "code",
      "execution_count": 14,
      "metadata": {
        "id": "y-Y6csj4J-fW",
        "colab": {
          "base_uri": "https://localhost:8080/"
        },
        "outputId": "937054d9-093c-4be8-a41a-0adf91f7b8b4"
      },
      "outputs": [
        {
          "output_type": "execute_result",
          "data": {
            "text/plain": [
              "[array([0.12158757], dtype=float32),\n",
              " array([0.12369365], dtype=float32),\n",
              " array([0.12659135], dtype=float32),\n",
              " array([0.12888867], dtype=float32),\n",
              " array([0.12971276], dtype=float32),\n",
              " array([0.12991643], dtype=float32),\n",
              " array([0.1302034], dtype=float32),\n",
              " array([0.13066691], dtype=float32),\n",
              " array([0.1306133], dtype=float32),\n",
              " array([0.13023269], dtype=float32),\n",
              " array([0.13026583], dtype=float32),\n",
              " array([0.13030085], dtype=float32)]"
            ]
          },
          "metadata": {},
          "execution_count": 14
        }
      ],
      "source": [
        "for i in range(n_input):   \n",
        "    pred_list.append(model.predict(batch)[0]) \n",
        "    batch = np.append(batch[:,1:,:],[[pred_list[i]]],axis=1)\n",
        "\n",
        "pred_list\n"
      ]
    },
    {
      "cell_type": "code",
      "source": [
        "from pandas.tseries.offsets import DateOffset\n",
        "add_dates = [df.index[-7] + DateOffset(months=x) for x in range(0,13) ]\n",
        "future_dates = pd.DataFrame(index=add_dates[1:],columns=df.columns)"
      ],
      "metadata": {
        "id": "vXqzdZZCjNKd"
      },
      "execution_count": 15,
      "outputs": []
    },
    {
      "cell_type": "markdown",
      "source": [
        "##Create Table Prediction\n",
        "\n",
        "This table prediction will show the data prediction. Before create the table, it is neccessary to restore data from normalization to real dataset. Of couser, author give back the normalization function that is given in the assignment."
      ],
      "metadata": {
        "id": "lY9tfJhTArFH"
      }
    },
    {
      "cell_type": "code",
      "source": [
        "df_predict = pd.DataFrame(((0.8*(scaler.inverse_transform(pred_list)))+0.1),\n",
        "                          index=future_dates[-n_input:].index, columns=['Prediction'])\n",
        "\n",
        "df_proj = pd.concat([df,df_predict], axis=1)\n",
        "df_proj"
      ],
      "metadata": {
        "colab": {
          "base_uri": "https://localhost:8080/",
          "height": 802
        },
        "id": "EH69Rr72lZsp",
        "outputId": "25aefc72-d20c-4909-a0f3-bfe92438643f"
      },
      "execution_count": 16,
      "outputs": [
        {
          "output_type": "execute_result",
          "data": {
            "text/html": [
              "\n",
              "  <div id=\"df-2291744a-dced-45f0-ab63-7ab95fe7c67e\">\n",
              "    <div class=\"colab-df-container\">\n",
              "      <div>\n",
              "<style scoped>\n",
              "    .dataframe tbody tr th:only-of-type {\n",
              "        vertical-align: middle;\n",
              "    }\n",
              "\n",
              "    .dataframe tbody tr th {\n",
              "        vertical-align: top;\n",
              "    }\n",
              "\n",
              "    .dataframe thead th {\n",
              "        text-align: right;\n",
              "    }\n",
              "</style>\n",
              "<table border=\"1\" class=\"dataframe\">\n",
              "  <thead>\n",
              "    <tr style=\"text-align: right;\">\n",
              "      <th></th>\n",
              "      <th>Units</th>\n",
              "      <th>Prediction</th>\n",
              "    </tr>\n",
              "  </thead>\n",
              "  <tbody>\n",
              "    <tr>\n",
              "      <th>2019-01-01</th>\n",
              "      <td>205.0</td>\n",
              "      <td>NaN</td>\n",
              "    </tr>\n",
              "    <tr>\n",
              "      <th>2019-02-01</th>\n",
              "      <td>196.0</td>\n",
              "      <td>NaN</td>\n",
              "    </tr>\n",
              "    <tr>\n",
              "      <th>2019-03-01</th>\n",
              "      <td>141.0</td>\n",
              "      <td>NaN</td>\n",
              "    </tr>\n",
              "    <tr>\n",
              "      <th>2019-04-01</th>\n",
              "      <td>112.0</td>\n",
              "      <td>NaN</td>\n",
              "    </tr>\n",
              "    <tr>\n",
              "      <th>2019-05-01</th>\n",
              "      <td>163.0</td>\n",
              "      <td>NaN</td>\n",
              "    </tr>\n",
              "    <tr>\n",
              "      <th>2019-06-01</th>\n",
              "      <td>242.0</td>\n",
              "      <td>NaN</td>\n",
              "    </tr>\n",
              "    <tr>\n",
              "      <th>2019-07-01</th>\n",
              "      <td>816.0</td>\n",
              "      <td>NaN</td>\n",
              "    </tr>\n",
              "    <tr>\n",
              "      <th>2019-08-01</th>\n",
              "      <td>1043.0</td>\n",
              "      <td>NaN</td>\n",
              "    </tr>\n",
              "    <tr>\n",
              "      <th>2019-09-01</th>\n",
              "      <td>950.0</td>\n",
              "      <td>NaN</td>\n",
              "    </tr>\n",
              "    <tr>\n",
              "      <th>2019-10-01</th>\n",
              "      <td>529.0</td>\n",
              "      <td>NaN</td>\n",
              "    </tr>\n",
              "    <tr>\n",
              "      <th>2019-11-01</th>\n",
              "      <td>308.0</td>\n",
              "      <td>NaN</td>\n",
              "    </tr>\n",
              "    <tr>\n",
              "      <th>2019-12-01</th>\n",
              "      <td>214.0</td>\n",
              "      <td>NaN</td>\n",
              "    </tr>\n",
              "    <tr>\n",
              "      <th>2020-01-01</th>\n",
              "      <td>176.0</td>\n",
              "      <td>178.150236</td>\n",
              "    </tr>\n",
              "    <tr>\n",
              "      <th>2020-02-01</th>\n",
              "      <td>146.0</td>\n",
              "      <td>179.723892</td>\n",
              "    </tr>\n",
              "    <tr>\n",
              "      <th>2020-03-01</th>\n",
              "      <td>109.0</td>\n",
              "      <td>181.889060</td>\n",
              "    </tr>\n",
              "    <tr>\n",
              "      <th>2020-04-01</th>\n",
              "      <td>110.0</td>\n",
              "      <td>183.605612</td>\n",
              "    </tr>\n",
              "    <tr>\n",
              "      <th>2020-05-01</th>\n",
              "      <td>135.0</td>\n",
              "      <td>184.221375</td>\n",
              "    </tr>\n",
              "    <tr>\n",
              "      <th>2020-06-01</th>\n",
              "      <td>160.0</td>\n",
              "      <td>184.373556</td>\n",
              "    </tr>\n",
              "    <tr>\n",
              "      <th>2020-07-01</th>\n",
              "      <td>NaN</td>\n",
              "      <td>184.587978</td>\n",
              "    </tr>\n",
              "    <tr>\n",
              "      <th>2020-08-01</th>\n",
              "      <td>NaN</td>\n",
              "      <td>184.934316</td>\n",
              "    </tr>\n",
              "    <tr>\n",
              "      <th>2020-09-01</th>\n",
              "      <td>NaN</td>\n",
              "      <td>184.894256</td>\n",
              "    </tr>\n",
              "    <tr>\n",
              "      <th>2020-10-01</th>\n",
              "      <td>NaN</td>\n",
              "      <td>184.609867</td>\n",
              "    </tr>\n",
              "    <tr>\n",
              "      <th>2020-11-01</th>\n",
              "      <td>NaN</td>\n",
              "      <td>184.634630</td>\n",
              "    </tr>\n",
              "    <tr>\n",
              "      <th>2020-12-01</th>\n",
              "      <td>NaN</td>\n",
              "      <td>184.660795</td>\n",
              "    </tr>\n",
              "  </tbody>\n",
              "</table>\n",
              "</div>\n",
              "      <button class=\"colab-df-convert\" onclick=\"convertToInteractive('df-2291744a-dced-45f0-ab63-7ab95fe7c67e')\"\n",
              "              title=\"Convert this dataframe to an interactive table.\"\n",
              "              style=\"display:none;\">\n",
              "        \n",
              "  <svg xmlns=\"http://www.w3.org/2000/svg\" height=\"24px\"viewBox=\"0 0 24 24\"\n",
              "       width=\"24px\">\n",
              "    <path d=\"M0 0h24v24H0V0z\" fill=\"none\"/>\n",
              "    <path d=\"M18.56 5.44l.94 2.06.94-2.06 2.06-.94-2.06-.94-.94-2.06-.94 2.06-2.06.94zm-11 1L8.5 8.5l.94-2.06 2.06-.94-2.06-.94L8.5 2.5l-.94 2.06-2.06.94zm10 10l.94 2.06.94-2.06 2.06-.94-2.06-.94-.94-2.06-.94 2.06-2.06.94z\"/><path d=\"M17.41 7.96l-1.37-1.37c-.4-.4-.92-.59-1.43-.59-.52 0-1.04.2-1.43.59L10.3 9.45l-7.72 7.72c-.78.78-.78 2.05 0 2.83L4 21.41c.39.39.9.59 1.41.59.51 0 1.02-.2 1.41-.59l7.78-7.78 2.81-2.81c.8-.78.8-2.07 0-2.86zM5.41 20L4 18.59l7.72-7.72 1.47 1.35L5.41 20z\"/>\n",
              "  </svg>\n",
              "      </button>\n",
              "      \n",
              "  <style>\n",
              "    .colab-df-container {\n",
              "      display:flex;\n",
              "      flex-wrap:wrap;\n",
              "      gap: 12px;\n",
              "    }\n",
              "\n",
              "    .colab-df-convert {\n",
              "      background-color: #E8F0FE;\n",
              "      border: none;\n",
              "      border-radius: 50%;\n",
              "      cursor: pointer;\n",
              "      display: none;\n",
              "      fill: #1967D2;\n",
              "      height: 32px;\n",
              "      padding: 0 0 0 0;\n",
              "      width: 32px;\n",
              "    }\n",
              "\n",
              "    .colab-df-convert:hover {\n",
              "      background-color: #E2EBFA;\n",
              "      box-shadow: 0px 1px 2px rgba(60, 64, 67, 0.3), 0px 1px 3px 1px rgba(60, 64, 67, 0.15);\n",
              "      fill: #174EA6;\n",
              "    }\n",
              "\n",
              "    [theme=dark] .colab-df-convert {\n",
              "      background-color: #3B4455;\n",
              "      fill: #D2E3FC;\n",
              "    }\n",
              "\n",
              "    [theme=dark] .colab-df-convert:hover {\n",
              "      background-color: #434B5C;\n",
              "      box-shadow: 0px 1px 3px 1px rgba(0, 0, 0, 0.15);\n",
              "      filter: drop-shadow(0px 1px 2px rgba(0, 0, 0, 0.3));\n",
              "      fill: #FFFFFF;\n",
              "    }\n",
              "  </style>\n",
              "\n",
              "      <script>\n",
              "        const buttonEl =\n",
              "          document.querySelector('#df-2291744a-dced-45f0-ab63-7ab95fe7c67e button.colab-df-convert');\n",
              "        buttonEl.style.display =\n",
              "          google.colab.kernel.accessAllowed ? 'block' : 'none';\n",
              "\n",
              "        async function convertToInteractive(key) {\n",
              "          const element = document.querySelector('#df-2291744a-dced-45f0-ab63-7ab95fe7c67e');\n",
              "          const dataTable =\n",
              "            await google.colab.kernel.invokeFunction('convertToInteractive',\n",
              "                                                     [key], {});\n",
              "          if (!dataTable) return;\n",
              "\n",
              "          const docLinkHtml = 'Like what you see? Visit the ' +\n",
              "            '<a target=\"_blank\" href=https://colab.research.google.com/notebooks/data_table.ipynb>data table notebook</a>'\n",
              "            + ' to learn more about interactive tables.';\n",
              "          element.innerHTML = '';\n",
              "          dataTable['output_type'] = 'display_data';\n",
              "          await google.colab.output.renderOutput(dataTable, element);\n",
              "          const docLink = document.createElement('div');\n",
              "          docLink.innerHTML = docLinkHtml;\n",
              "          element.appendChild(docLink);\n",
              "        }\n",
              "      </script>\n",
              "    </div>\n",
              "  </div>\n",
              "  "
            ],
            "text/plain": [
              "             Units  Prediction\n",
              "2019-01-01   205.0         NaN\n",
              "2019-02-01   196.0         NaN\n",
              "2019-03-01   141.0         NaN\n",
              "2019-04-01   112.0         NaN\n",
              "2019-05-01   163.0         NaN\n",
              "2019-06-01   242.0         NaN\n",
              "2019-07-01   816.0         NaN\n",
              "2019-08-01  1043.0         NaN\n",
              "2019-09-01   950.0         NaN\n",
              "2019-10-01   529.0         NaN\n",
              "2019-11-01   308.0         NaN\n",
              "2019-12-01   214.0         NaN\n",
              "2020-01-01   176.0  178.150236\n",
              "2020-02-01   146.0  179.723892\n",
              "2020-03-01   109.0  181.889060\n",
              "2020-04-01   110.0  183.605612\n",
              "2020-05-01   135.0  184.221375\n",
              "2020-06-01   160.0  184.373556\n",
              "2020-07-01     NaN  184.587978\n",
              "2020-08-01     NaN  184.934316\n",
              "2020-09-01     NaN  184.894256\n",
              "2020-10-01     NaN  184.609867\n",
              "2020-11-01     NaN  184.634630\n",
              "2020-12-01     NaN  184.660795"
            ]
          },
          "metadata": {},
          "execution_count": 16
        }
      ]
    },
    {
      "cell_type": "markdown",
      "source": [
        "##Plot Prediction Result"
      ],
      "metadata": {
        "id": "H2dzQ8XNAvck"
      }
    },
    {
      "cell_type": "code",
      "execution_count": 17,
      "metadata": {
        "id": "gfxUPjcZZyQF",
        "colab": {
          "base_uri": "https://localhost:8080/",
          "height": 1000
        },
        "outputId": "4da2ac5f-86ee-4473-d7b4-d5c85979c435"
      },
      "outputs": [
        {
          "output_type": "stream",
          "name": "stderr",
          "text": [
            "No handles with labels found to put in legend.\n"
          ]
        },
        {
          "output_type": "display_data",
          "data": {
            "image/png": "[encoded data removed]",
            "text/plain": [
              "<Figure size 1440x1800 with 1 Axes>"
            ]
          },
          "metadata": {
            "needs_background": "light"
          }
        }
      ],
      "source": [
        "plt.figure(figsize=(20, 25))\n",
        "plt.plot(df_proj.index, df_proj['Units'])\n",
        "plt.plot(df_proj.index, df_proj['Prediction'], color='r')\n",
        "plt.legend(loc='best', fontsize='xx-large')\n",
        "plt.xticks(fontsize=18)\n",
        "plt.yticks(fontsize=16)\n",
        "plt.show()"
      ]
    },
    {
      "cell_type": "markdown",
      "source": [
        "#Save Model\n",
        "To save the model so that in the future it will use or deploy in mobile application or etc. "
      ],
      "metadata": {
        "id": "pNyWZbnAAy9E"
      }
    },
    {
      "cell_type": "code",
      "source": [
        "model.save('ANN_model.h5')"
      ],
      "metadata": {
        "id": "FQBYKc9WBEce"
      },
      "execution_count": 18,
      "outputs": []
    },
    {
      "cell_type": "markdown",
      "source": [
        "This model is properly going well, but author believe that prediction result is not same pattern with real data. it might be happened when parameters and hyperparameters tuning are not going properly. Hence, to produce best model in the future it should be modifiying the parameter including learning rate, epoch, and etc."
      ],
      "metadata": {
        "id": "NFGfK3sdxYv5"
      }
    }
  ],
  "metadata": {
    "colab": {
      "name": "ANN-ML_Individu.ipynb",
      "provenance": [],
      "authorship_tag": "ABX9TyM15AfpgFiJy8y+Ncci1jDA",
      "include_colab_link": true
    },
    "kernelspec": {
      "display_name": "Python 3",
      "name": "python3"
    },
    "language_info": {
      "name": "python"
    }
  },
  "nbformat": 4,
  "nbformat_minor": 0
}