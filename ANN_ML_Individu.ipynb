{
  "cells": [
    {
      "cell_type": "markdown",
      "metadata": {
        "id": "view-in-github",
        "colab_type": "text"
      },
      "source": [
        "<a href=\"https://colab.research.google.com/github/renaldfredy/ANN/blob/main/ANN_ML_Individu.ipynb\" target=\"_parent\"><img src=\"https://colab.research.google.com/assets/colab-badge.svg\" alt=\"Open In Colab\"/></a>"
      ]
    },
    {
      "cell_type": "markdown",
      "source": [
        "Name: Renaldy Fredyan\n",
        "\n",
        "NIM : 2301979081\n",
        "\n",
        "\n",
        "This project is dedicated to fulfill an individual assignment **\"ANN and Its Application in Prediction\"** in a Machine Learning class with a lecturer \n",
        "Dr. Ir. HARYONO SOEPARNO, M.Sc.\n",
        "\n",
        "I realize that this project is still far from perfect, therefore I humbly ask for your criticism and suggestions.\n",
        "\n",
        "Thank you for your attention and kindness."
      ],
      "metadata": {
        "id": "QRsZY2c44SMz"
      }
    },
    {
      "cell_type": "markdown",
      "source": [
        "#Library\n",
        "\n",
        "First of all, this program need several library to help author making simple to writing program code without additional function."
      ],
      "metadata": {
        "id": "SyO-uPW257wv"
      }
    },
    {
      "cell_type": "code",
      "execution_count": null,
      "metadata": {
        "id": "_QdfYv7OkQx1"
      },
      "outputs": [],
      "source": [
        "import numpy as np #the fundamental package for scientific computing in Python\n",
        "import pandas as pd #a software library written for the Python programming language for data manipulation and analysis\n",
        "import matplotlib.pyplot as plt #a plotting library for the Python programming language and its numerical mathematics extension NumPy\n",
        "%matplotlib inline #to enable the inline plotting\n",
        "from sklearn.preprocessing import MinMaxScaler #subtracts the minimum value in the feature and then divides by the range.\n",
        "from tensorflow.keras.preprocessing.sequence import TimeseriesGenerator #to automatically transform both univariate and multivariate time series data into samples, ready to train deep learning models\n",
        "from tensorflow import keras #a deep learning API written in Python, running on top of the machine learning platform TensorFlow.\n",
        "from keras.initializers import RandomNormal #generates a sample of numbers drawn from the normal distribution, otherwise called the Gaussian distribution.\n",
        "from keras.models import Sequential #a linear stack of layers\n",
        "from keras.layers import Dense #a neural network layer that is connected deeply\n",
        "from keras.callbacks import EarlyStopping #a form of regularization used to avoid overfitting when training a learner with an iterative method\n",
        "import warnings #an advance notice of something that will happen, often something unpleasant or dangerous\n",
        "warnings.filterwarnings(\"ignore\")"
      ]
    },
    {
      "cell_type": "markdown",
      "source": [
        "#Setting Random Value\n",
        "\n",
        "After that, setting random seed to give innitial random number. This code is necessesary to avoid changing result of prediction when programmer try to run the program in the future."
      ],
      "metadata": {
        "id": "3EQbtEzZ8Sk0"
      }
    },
    {
      "cell_type": "code",
      "execution_count": null,
      "metadata": {
        "colab": {
          "base_uri": "https://localhost:8080/"
        },
        "id": "VZozQhVskmO1",
        "outputId": "20fc9b1d-d645-4255-ec6b-c106e30798d1"
      },
      "outputs": [
        {
          "output_type": "stream",
          "name": "stdout",
          "text": [
            "[0.29197514]\n"
          ]
        }
      ],
      "source": [
        "seed_value= 0\n",
        "\n",
        "# Set the `PYTHONHASHSEED` environment variable at a fixed value\n",
        "import os\n",
        "os.environ['PYTHONHASHSEED']=str(seed_value)\n",
        "import random\n",
        "random.seed(seed_value)\n",
        "\n",
        "# Set `numpy` pseudo-random generator at a fixed value\n",
        "import numpy as np\n",
        "np.random.seed(seed_value)\n",
        "np.random.seed(1)\n",
        "\n",
        "# Set the `tensorflow` pseudo-random generator at a fixed value\n",
        "import tensorflow as tf\n",
        "tf.random.set_seed(seed_value)\n",
        "\n",
        "print(tf.random.uniform([1]).numpy())"
      ]
    },
    {
      "cell_type": "markdown",
      "source": [
        "#Data Preprocessing"
      ],
      "metadata": {
        "id": "yY8rV0-d_btv"
      }
    },
    {
      "cell_type": "markdown",
      "source": [
        "##Importing the dataset\n",
        "\n",
        "Before this explanation is going to so far, import data is needed as a dataset in this program. It is given by the individual assignment. To make it easy author write those data in csv."
      ],
      "metadata": {
        "id": "nU5G287m_dqs"
      }
    },
    {
      "cell_type": "code",
      "execution_count": null,
      "metadata": {
        "colab": {
          "base_uri": "https://localhost:8080/",
          "height": 645
        },
        "id": "l7AF9DwZLqk3",
        "outputId": "5175b5b2-286c-4d2c-c778-2d11b8dc4163"
      },
      "outputs": [
        {
          "output_type": "execute_result",
          "data": {
            "text/html": [
              "\n",
              "  <div id=\"df-3db092a2-6c19-4fb9-b5c7-e1edead1e99b\">\n",
              "    <div class=\"colab-df-container\">\n",
              "      <div>\n",
              "<style scoped>\n",
              "    .dataframe tbody tr th:only-of-type {\n",
              "        vertical-align: middle;\n",
              "    }\n",
              "\n",
              "    .dataframe tbody tr th {\n",
              "        vertical-align: top;\n",
              "    }\n",
              "\n",
              "    .dataframe thead th {\n",
              "        text-align: right;\n",
              "    }\n",
              "</style>\n",
              "<table border=\"1\" class=\"dataframe\">\n",
              "  <thead>\n",
              "    <tr style=\"text-align: right;\">\n",
              "      <th></th>\n",
              "      <th>Units</th>\n",
              "    </tr>\n",
              "    <tr>\n",
              "      <th>Month</th>\n",
              "      <th></th>\n",
              "    </tr>\n",
              "  </thead>\n",
              "  <tbody>\n",
              "    <tr>\n",
              "      <th>2019-01-01</th>\n",
              "      <td>205</td>\n",
              "    </tr>\n",
              "    <tr>\n",
              "      <th>2019-02-01</th>\n",
              "      <td>196</td>\n",
              "    </tr>\n",
              "    <tr>\n",
              "      <th>2019-03-01</th>\n",
              "      <td>141</td>\n",
              "    </tr>\n",
              "    <tr>\n",
              "      <th>2019-04-01</th>\n",
              "      <td>112</td>\n",
              "    </tr>\n",
              "    <tr>\n",
              "      <th>2019-05-01</th>\n",
              "      <td>163</td>\n",
              "    </tr>\n",
              "    <tr>\n",
              "      <th>2019-06-01</th>\n",
              "      <td>242</td>\n",
              "    </tr>\n",
              "    <tr>\n",
              "      <th>2019-07-01</th>\n",
              "      <td>816</td>\n",
              "    </tr>\n",
              "    <tr>\n",
              "      <th>2019-08-01</th>\n",
              "      <td>1043</td>\n",
              "    </tr>\n",
              "    <tr>\n",
              "      <th>2019-09-01</th>\n",
              "      <td>950</td>\n",
              "    </tr>\n",
              "    <tr>\n",
              "      <th>2019-10-01</th>\n",
              "      <td>529</td>\n",
              "    </tr>\n",
              "    <tr>\n",
              "      <th>2019-11-01</th>\n",
              "      <td>308</td>\n",
              "    </tr>\n",
              "    <tr>\n",
              "      <th>2019-12-01</th>\n",
              "      <td>214</td>\n",
              "    </tr>\n",
              "    <tr>\n",
              "      <th>2020-01-01</th>\n",
              "      <td>176</td>\n",
              "    </tr>\n",
              "    <tr>\n",
              "      <th>2020-02-01</th>\n",
              "      <td>146</td>\n",
              "    </tr>\n",
              "    <tr>\n",
              "      <th>2020-03-01</th>\n",
              "      <td>109</td>\n",
              "    </tr>\n",
              "    <tr>\n",
              "      <th>2020-04-01</th>\n",
              "      <td>110</td>\n",
              "    </tr>\n",
              "    <tr>\n",
              "      <th>2020-05-01</th>\n",
              "      <td>135</td>\n",
              "    </tr>\n",
              "    <tr>\n",
              "      <th>2020-06-01</th>\n",
              "      <td>160</td>\n",
              "    </tr>\n",
              "  </tbody>\n",
              "</table>\n",
              "</div>\n",
              "      <button class=\"colab-df-convert\" onclick=\"convertToInteractive('df-3db092a2-6c19-4fb9-b5c7-e1edead1e99b')\"\n",
              "              title=\"Convert this dataframe to an interactive table.\"\n",
              "              style=\"display:none;\">\n",
              "        \n",
              "  <svg xmlns=\"http://www.w3.org/2000/svg\" height=\"24px\"viewBox=\"0 0 24 24\"\n",
              "       width=\"24px\">\n",
              "    <path d=\"M0 0h24v24H0V0z\" fill=\"none\"/>\n",
              "    <path d=\"M18.56 5.44l.94 2.06.94-2.06 2.06-.94-2.06-.94-.94-2.06-.94 2.06-2.06.94zm-11 1L8.5 8.5l.94-2.06 2.06-.94-2.06-.94L8.5 2.5l-.94 2.06-2.06.94zm10 10l.94 2.06.94-2.06 2.06-.94-2.06-.94-.94-2.06-.94 2.06-2.06.94z\"/><path d=\"M17.41 7.96l-1.37-1.37c-.4-.4-.92-.59-1.43-.59-.52 0-1.04.2-1.43.59L10.3 9.45l-7.72 7.72c-.78.78-.78 2.05 0 2.83L4 21.41c.39.39.9.59 1.41.59.51 0 1.02-.2 1.41-.59l7.78-7.78 2.81-2.81c.8-.78.8-2.07 0-2.86zM5.41 20L4 18.59l7.72-7.72 1.47 1.35L5.41 20z\"/>\n",
              "  </svg>\n",
              "      </button>\n",
              "      \n",
              "  <style>\n",
              "    .colab-df-container {\n",
              "      display:flex;\n",
              "      flex-wrap:wrap;\n",
              "      gap: 12px;\n",
              "    }\n",
              "\n",
              "    .colab-df-convert {\n",
              "      background-color: #E8F0FE;\n",
              "      border: none;\n",
              "      border-radius: 50%;\n",
              "      cursor: pointer;\n",
              "      display: none;\n",
              "      fill: #1967D2;\n",
              "      height: 32px;\n",
              "      padding: 0 0 0 0;\n",
              "      width: 32px;\n",
              "    }\n",
              "\n",
              "    .colab-df-convert:hover {\n",
              "      background-color: #E2EBFA;\n",
              "      box-shadow: 0px 1px 2px rgba(60, 64, 67, 0.3), 0px 1px 3px 1px rgba(60, 64, 67, 0.15);\n",
              "      fill: #174EA6;\n",
              "    }\n",
              "\n",
              "    [theme=dark] .colab-df-convert {\n",
              "      background-color: #3B4455;\n",
              "      fill: #D2E3FC;\n",
              "    }\n",
              "\n",
              "    [theme=dark] .colab-df-convert:hover {\n",
              "      background-color: #434B5C;\n",
              "      box-shadow: 0px 1px 3px 1px rgba(0, 0, 0, 0.15);\n",
              "      filter: drop-shadow(0px 1px 2px rgba(0, 0, 0, 0.3));\n",
              "      fill: #FFFFFF;\n",
              "    }\n",
              "  </style>\n",
              "\n",
              "      <script>\n",
              "        const buttonEl =\n",
              "          document.querySelector('#df-3db092a2-6c19-4fb9-b5c7-e1edead1e99b button.colab-df-convert');\n",
              "        buttonEl.style.display =\n",
              "          google.colab.kernel.accessAllowed ? 'block' : 'none';\n",
              "\n",
              "        async function convertToInteractive(key) {\n",
              "          const element = document.querySelector('#df-3db092a2-6c19-4fb9-b5c7-e1edead1e99b');\n",
              "          const dataTable =\n",
              "            await google.colab.kernel.invokeFunction('convertToInteractive',\n",
              "                                                     [key], {});\n",
              "          if (!dataTable) return;\n",
              "\n",
              "          const docLinkHtml = 'Like what you see? Visit the ' +\n",
              "            '<a target=\"_blank\" href=https://colab.research.google.com/notebooks/data_table.ipynb>data table notebook</a>'\n",
              "            + ' to learn more about interactive tables.';\n",
              "          element.innerHTML = '';\n",
              "          dataTable['output_type'] = 'display_data';\n",
              "          await google.colab.output.renderOutput(dataTable, element);\n",
              "          const docLink = document.createElement('div');\n",
              "          docLink.innerHTML = docLinkHtml;\n",
              "          element.appendChild(docLink);\n",
              "        }\n",
              "      </script>\n",
              "    </div>\n",
              "  </div>\n",
              "  "
            ],
            "text/plain": [
              "            Units\n",
              "Month            \n",
              "2019-01-01    205\n",
              "2019-02-01    196\n",
              "2019-03-01    141\n",
              "2019-04-01    112\n",
              "2019-05-01    163\n",
              "2019-06-01    242\n",
              "2019-07-01    816\n",
              "2019-08-01   1043\n",
              "2019-09-01    950\n",
              "2019-10-01    529\n",
              "2019-11-01    308\n",
              "2019-12-01    214\n",
              "2020-01-01    176\n",
              "2020-02-01    146\n",
              "2020-03-01    109\n",
              "2020-04-01    110\n",
              "2020-05-01    135\n",
              "2020-06-01    160"
            ]
          },
          "metadata": {},
          "execution_count": 26
        }
      ],
      "source": [
        "df = pd.read_csv('/content/sales _of_mobile_phones.csv')\n",
        "df.Month = pd.to_datetime(df.Month)\n",
        "df = df.set_index(\"Month\")\n",
        "df"
      ]
    },
    {
      "cell_type": "markdown",
      "source": [
        "##Plot Dataset\n",
        "\n",
        "After importing data, it can be plotting to see visualization of data."
      ],
      "metadata": {
        "id": "4rSHJAOl_lkq"
      }
    },
    {
      "cell_type": "code",
      "source": [
        "plt.figure(figsize=(20, 5))\n",
        "plt.plot(df.index, df['Units'])\n",
        "plt.legend(loc='best', fontsize='xx-large')\n",
        "plt.xticks(fontsize=18)\n",
        "plt.yticks(fontsize=16)\n",
        "plt.show()"
      ],
      "metadata": {
        "colab": {
          "base_uri": "https://localhost:8080/",
          "height": 283
        },
        "id": "wXZxYxntmvu4",
        "outputId": "fe02bb05-0ee9-4b76-b415-a8b64326921b"
      },
      "execution_count": null,
      "outputs": [
        {
          "output_type": "stream",
          "name": "stderr",
          "text": [
            "No handles with labels found to put in legend.\n"
          ]
        },
        {
          "output_type": "display_data",
          "data": {
            "image/png": "[encoded data removed]",
            "text/plain": [
              "<Figure size 1440x360 with 1 Axes>"
            ]
          },
          "metadata": {
            "needs_background": "light"
          }
        }
      ]
    },
    {
      "cell_type": "code",
      "execution_count": null,
      "metadata": {
        "id": "Vc3NCgN3GPsJ"
      },
      "outputs": [],
      "source": [
        "train = df"
      ]
    },
    {
      "cell_type": "markdown",
      "source": [
        "##Feature Scaling\n",
        "\n",
        "Based on question\n",
        "b. Perform data normalization (data transformation) from the sales results to the form of data to be processed by ANN in accordance with the binary sigmoid activation function. Use transformation, `f (x) = 0.8 ((x - min) / (max - min)) + 0.1`;\n",
        "\n",
        "Author scale the data using library `MinMaxScaler` but this library only use general Normalization, while in that question given by function that alread modify, so author make to comprimise using code in lines 3 below:"
      ],
      "metadata": {
        "id": "mVNdFezZ_2Pn"
      }
    },
    {
      "cell_type": "code",
      "execution_count": null,
      "metadata": {
        "colab": {
          "base_uri": "https://localhost:8080/"
        },
        "id": "0viWscPzn7C1",
        "outputId": "b495cf07-7436-45a2-b8f6-2651ec1bf831"
      },
      "outputs": [
        {
          "output_type": "execute_result",
          "data": {
            "text/plain": [
              "array([[0.18222698],\n",
              "       [0.1745182 ],\n",
              "       [0.12740899],\n",
              "       [0.10256959],\n",
              "       [0.14625268],\n",
              "       [0.21391863],\n",
              "       [0.70556745],\n",
              "       [0.9       ],\n",
              "       [0.82034261],\n",
              "       [0.45974304],\n",
              "       [0.27044968],\n",
              "       [0.18993576],\n",
              "       [0.15738758],\n",
              "       [0.13169165],\n",
              "       [0.1       ],\n",
              "       [0.10085653],\n",
              "       [0.12226981],\n",
              "       [0.14368308]])"
            ]
          },
          "metadata": {},
          "execution_count": 8
        }
      ],
      "source": [
        "scaler = MinMaxScaler()\n",
        "scaler.fit(train)\n",
        "train = ((0.8*(scaler.transform(train)))+0.1)\n",
        "train\n",
        "# len(train)"
      ]
    },
    {
      "cell_type": "markdown",
      "source": [
        "Now this ANN will be performing supervised machine learning, so it needs to create a labelled training set.   Those training data will have inputs and expected output labels for those inputs.   Treating this as a regression problem, this ANN will learn to associate certain values to patern the data,  making the training inputs 12 values of month and the training outputs 1 values of month. Author use `TimeseriesGenerator` to generate algorithm."
      ],
      "metadata": {
        "id": "_cADwK3CKbMu"
      }
    },
    {
      "cell_type": "code",
      "execution_count": null,
      "metadata": {
        "id": "YcVaXdvdn_-C"
      },
      "outputs": [],
      "source": [
        "n_input = 12\n",
        "t_gen = TimeseriesGenerator(train, train, length=12, batch_size=1, stride=1)\n"
      ]
    },
    {
      "cell_type": "markdown",
      "source": [
        "#Build The Model"
      ],
      "metadata": {
        "id": "s284pxlR_6gm"
      }
    },
    {
      "cell_type": "markdown",
      "source": [
        "##Building the Neural Network layer by layer\n",
        "\n",
        "Design ANN Architecture based on question\n",
        "a. Design an ANN Architecture with 1 hidden layer, with complete notations\n",
        "Hints: Determine the dimension of input layer n = 12, output layer m = 1; For p, is calculated as follows: p = (1/3 x n) + m;\n",
        "\n",
        "p  = (1/3 x 12) + 1\n",
        "p = 5\n",
        "\n",
        "in this code author write *units or neuron* as 5 \n",
        "\n",
        "Dense means ANN or NN or Fully Connected Network (FCN)\n",
        "\n",
        "This \n",
        "\n",
        "![alt text](https://user-images.githubusercontent.com/56014075/150909499-46a45871-d9b9-4e7e-9b11-a3c6138cb15d.png)\n"
      ],
      "metadata": {
        "id": "Q0V4v89xAFm_"
      }
    },
    {
      "cell_type": "markdown",
      "source": [
        "An ANN is made of many interconnected \"**neurons**\".\n",
        "\n",
        "![alt text](https://www.cognizantsoftvision.com/wp-content/uploads/2019/01/Neural_Networks_in_your_browser_1.gif)\n",
        "\n",
        "Each neuron takes in some floating point numbers (e.g. 1.0, 0.5, -1.0) and multiplies them by some other floating point numbers (e.g. 0.7, 0.6, 1.4) known as **weights** (1.0 * 0.7 = 0.7, 0.5 * 0.6 = 0.3, -1.0 * 1.4 = -1.4).  The weights act as a mechanism to focus on, or ignore, certain inputs.  The weighted inputs then get summed together (e.g. 0.7 + 0.3 + -1.4 = -0.4) along with a **bias** value (e.g. -0.4 + ** -0.1 ** = -0.5).  \n",
        "\n",
        "The summed value (x) is now transformed into an output value (y) according to the neuron's **activation function**  (y = **f**(x)).  Some popular activation functions are shown below: \n",
        "\n",
        "![alt text](https://cdn-images-1.medium.com/max/1600/1*RD0lIYqB5L2LrI2VTIZqGw.png)\n",
        "\n",
        "e.g. -0.5 --> -0.05 if we use the **Leaky Rectified Linear Unit (Leaky ReLU)** activation function: y = f(x) = f(-0.5) = max(0.1*-0.5, -0.5) = max(-0.05, -0.5) = -0.05\n",
        "\n",
        "In larger ANNs with many layers, the neuron's output value (e.g. -0.05) would become the input for another neuron.\n",
        "\n",
        "\n",
        "![alt text](https://www.16bit.ai/static/img/loading.gif)\n",
        "\n",
        "![alt text](https://www.neuraldesigner.com/images/deep_neural_network.png)\n",
        "\n",
        "However, one of the first ANNs was known as the perceptron and it consisted of only a single neuron.  \n",
        "\n",
        "![alt text](https://cdn-images-1.medium.com/max/1600/1*_Zy1C83cnmYUdETCeQrOgA.png)\n",
        "\n",
        "The output of the perceptron's neuron acts as the final prediction. "
      ],
      "metadata": {
        "id": "Q7EPJBYgJGon"
      }
    },
    {
      "cell_type": "markdown",
      "source": [
        "So why do we need so many neurons in an ANN if one will suffice?  Well, individual neurons are unable to classify non-linearly separable data because they can only ever learn a linear decision boundary. \n",
        "\n",
        "\n",
        "However, by combining neurons together, we essentially combine their decision boundaries.  Therefore, an ANN composed of many neurons is able to learn non-linear decision boundaries.\n",
        "\n",
        "\n",
        "Neurons are connected together according to a specific network architecture.  Though there are different architectures, nearly all of them contain **layers**.  (Neurons in the same layer do not connect with one another.)\n",
        "\n",
        "\n",
        "\n",
        "![alt text](https://cdn-images-1.medium.com/max/1600/1*_M4bZyuwaGby6KMiYVYXvg.jpeg)\n",
        "\n",
        "There is typically an input layer (containing a number of neurons equal to the number of input features in the data), an output layer (containing a number of neurons equal to the number of classes) and a hidden layer (containing any number of neurons).  There can be more than one hidden layer  to allow the neural net to learn more complex decision boundaries (Any neural net with more than one hidden layer is considered a deep neural net).\n",
        " \n",
        " \n"
      ],
      "metadata": {
        "id": "VEoEPg9uKJAH"
      }
    },
    {
      "cell_type": "code",
      "execution_count": null,
      "metadata": {
        "id": "GKP9Z4uu4cFD"
      },
      "outputs": [],
      "source": [
        "import keras.backend as K\n",
        "from keras.layers import Lambda, Flatten\n",
        "\n",
        "model = Sequential()\n",
        "model.add(Dense(5, activation = 'relu', input_shape=(12,1)))\n",
        "model.add(Flatten())\n",
        "model.add(Dense(1, activation = 'sigmoid'))\n",
        "model.compile(optimizer='adam', loss='mse')\n",
        "\n",
        "earlystopper_1 = EarlyStopping(monitor='val_loss', patience=100, verbose=0)"
      ]
    },
    {
      "cell_type": "markdown",
      "source": [
        "##Summarising Model\n",
        "This summary is to see typical Layer, output shape, and parameter of model."
      ],
      "metadata": {
        "id": "9CldYWV2AI3f"
      }
    },
    {
      "cell_type": "code",
      "source": [
        "model.summary()"
      ],
      "metadata": {
        "colab": {
          "base_uri": "https://localhost:8080/"
        },
        "id": "RXqgJoAJG4dp",
        "outputId": "101e6ef8-bb46-4f4d-8efa-22452d2a13c1"
      },
      "execution_count": null,
      "outputs": [
        {
          "output_type": "stream",
          "name": "stdout",
          "text": [
            "Model: \"sequential\"\n",
            "_________________________________________________________________\n",
            " Layer (type)                Output Shape              Param #   \n",
            "=================================================================\n",
            " dense (Dense)               (None, 12, 5)             10        \n",
            "                                                                 \n",
            " flatten (Flatten)           (None, 60)                0         \n",
            "                                                                 \n",
            " dense_1 (Dense)             (None, 1)                 61        \n",
            "                                                                 \n",
            "=================================================================\n",
            "Total params: 71\n",
            "Trainable params: 71\n",
            "Non-trainable params: 0\n",
            "_________________________________________________________________\n"
          ]
        }
      ]
    },
    {
      "cell_type": "markdown",
      "source": [
        "##Fitting The Model\n",
        "\n",
        "A measure of how well a machine learning model generalizes to similar data to that on which it was trained."
      ],
      "metadata": {
        "id": "fcgsHrxzARSs"
      }
    },
    {
      "cell_type": "code",
      "execution_count": null,
      "metadata": {
        "colab": {
          "base_uri": "https://localhost:8080/"
        },
        "id": "xqm9Lvh44xRw",
        "outputId": "9c3e1318-7fa6-4b78-dbba-67cef1ae1208"
      },
      "outputs": [
        {
          "output_type": "stream",
          "name": "stdout",
          "text": [
            "Epoch 1/100\n",
            "6/6 [==============================] - 1s 74ms/step - loss: 0.1829 - val_loss: 0.1766\n",
            "Epoch 2/100\n",
            "6/6 [==============================] - 0s 21ms/step - loss: 0.1722 - val_loss: 0.1664\n",
            "Epoch 3/100\n",
            "6/6 [==============================] - 0s 25ms/step - loss: 0.1622 - val_loss: 0.1564\n",
            "Epoch 4/100\n",
            "6/6 [==============================] - 0s 25ms/step - loss: 0.1522 - val_loss: 0.1467\n",
            "Epoch 5/100\n",
            "6/6 [==============================] - 0s 24ms/step - loss: 0.1428 - val_loss: 0.1369\n",
            "Epoch 6/100\n",
            "6/6 [==============================] - 0s 11ms/step - loss: 0.1328 - val_loss: 0.1272\n",
            "Epoch 7/100\n",
            "6/6 [==============================] - 0s 12ms/step - loss: 0.1232 - val_loss: 0.1174\n",
            "Epoch 8/100\n",
            "6/6 [==============================] - 0s 13ms/step - loss: 0.1135 - val_loss: 0.1074\n",
            "Epoch 9/100\n",
            "6/6 [==============================] - 0s 12ms/step - loss: 0.1034 - val_loss: 0.0973\n",
            "Epoch 10/100\n",
            "6/6 [==============================] - 0s 14ms/step - loss: 0.0933 - val_loss: 0.0873\n",
            "Epoch 11/100\n",
            "6/6 [==============================] - 0s 12ms/step - loss: 0.0833 - val_loss: 0.0775\n",
            "Epoch 12/100\n",
            "6/6 [==============================] - 0s 13ms/step - loss: 0.0733 - val_loss: 0.0680\n",
            "Epoch 13/100\n",
            "6/6 [==============================] - 0s 11ms/step - loss: 0.0642 - val_loss: 0.0588\n",
            "Epoch 14/100\n",
            "6/6 [==============================] - 0s 12ms/step - loss: 0.0552 - val_loss: 0.0502\n",
            "Epoch 15/100\n",
            "6/6 [==============================] - 0s 11ms/step - loss: 0.0469 - val_loss: 0.0424\n",
            "Epoch 16/100\n",
            "6/6 [==============================] - 0s 12ms/step - loss: 0.0393 - val_loss: 0.0355\n",
            "Epoch 17/100\n",
            "6/6 [==============================] - 0s 11ms/step - loss: 0.0328 - val_loss: 0.0293\n",
            "Epoch 18/100\n",
            "6/6 [==============================] - 0s 13ms/step - loss: 0.0272 - val_loss: 0.0240\n",
            "Epoch 19/100\n",
            "6/6 [==============================] - 0s 12ms/step - loss: 0.0222 - val_loss: 0.0195\n",
            "Epoch 20/100\n",
            "6/6 [==============================] - 0s 12ms/step - loss: 0.0180 - val_loss: 0.0158\n",
            "Epoch 21/100\n",
            "6/6 [==============================] - 0s 12ms/step - loss: 0.0145 - val_loss: 0.0129\n",
            "Epoch 22/100\n",
            "6/6 [==============================] - 0s 11ms/step - loss: 0.0119 - val_loss: 0.0104\n",
            "Epoch 23/100\n",
            "6/6 [==============================] - 0s 12ms/step - loss: 0.0096 - val_loss: 0.0084\n",
            "Epoch 24/100\n",
            "6/6 [==============================] - 0s 11ms/step - loss: 0.0078 - val_loss: 0.0069\n",
            "Epoch 25/100\n",
            "6/6 [==============================] - 0s 12ms/step - loss: 0.0064 - val_loss: 0.0056\n",
            "Epoch 26/100\n",
            "6/6 [==============================] - 0s 11ms/step - loss: 0.0053 - val_loss: 0.0046\n",
            "Epoch 27/100\n",
            "6/6 [==============================] - 0s 12ms/step - loss: 0.0044 - val_loss: 0.0038\n",
            "Epoch 28/100\n",
            "6/6 [==============================] - 0s 12ms/step - loss: 0.0036 - val_loss: 0.0032\n",
            "Epoch 29/100\n",
            "6/6 [==============================] - 0s 12ms/step - loss: 0.0031 - val_loss: 0.0027\n",
            "Epoch 30/100\n",
            "6/6 [==============================] - 0s 12ms/step - loss: 0.0026 - val_loss: 0.0023\n",
            "Epoch 31/100\n",
            "6/6 [==============================] - 0s 13ms/step - loss: 0.0022 - val_loss: 0.0020\n",
            "Epoch 32/100\n",
            "6/6 [==============================] - 0s 13ms/step - loss: 0.0019 - val_loss: 0.0018\n",
            "Epoch 33/100\n",
            "6/6 [==============================] - 0s 12ms/step - loss: 0.0017 - val_loss: 0.0015\n",
            "Epoch 34/100\n",
            "6/6 [==============================] - 0s 21ms/step - loss: 0.0015 - val_loss: 0.0014\n",
            "Epoch 35/100\n",
            "6/6 [==============================] - 0s 12ms/step - loss: 0.0013 - val_loss: 0.0012\n",
            "Epoch 36/100\n",
            "6/6 [==============================] - 0s 13ms/step - loss: 0.0012 - val_loss: 0.0011\n",
            "Epoch 37/100\n",
            "6/6 [==============================] - 0s 12ms/step - loss: 0.0011 - val_loss: 0.0010\n",
            "Epoch 38/100\n",
            "6/6 [==============================] - 0s 12ms/step - loss: 0.0010 - val_loss: 9.7368e-04\n",
            "Epoch 39/100\n",
            "6/6 [==============================] - 0s 11ms/step - loss: 9.4701e-04 - val_loss: 9.1455e-04\n",
            "Epoch 40/100\n",
            "6/6 [==============================] - 0s 12ms/step - loss: 9.0337e-04 - val_loss: 8.6143e-04\n",
            "Epoch 41/100\n",
            "6/6 [==============================] - 0s 12ms/step - loss: 8.4787e-04 - val_loss: 8.2167e-04\n",
            "Epoch 42/100\n",
            "6/6 [==============================] - 0s 11ms/step - loss: 8.0037e-04 - val_loss: 7.9443e-04\n",
            "Epoch 43/100\n",
            "6/6 [==============================] - 0s 12ms/step - loss: 7.8640e-04 - val_loss: 7.6294e-04\n",
            "Epoch 44/100\n",
            "6/6 [==============================] - 0s 11ms/step - loss: 7.5655e-04 - val_loss: 7.3896e-04\n",
            "Epoch 45/100\n",
            "6/6 [==============================] - 0s 12ms/step - loss: 7.3571e-04 - val_loss: 7.1875e-04\n",
            "Epoch 46/100\n",
            "6/6 [==============================] - 0s 12ms/step - loss: 7.1380e-04 - val_loss: 7.0389e-04\n",
            "Epoch 47/100\n",
            "6/6 [==============================] - 0s 11ms/step - loss: 6.9997e-04 - val_loss: 6.9110e-04\n",
            "Epoch 48/100\n",
            "6/6 [==============================] - 0s 11ms/step - loss: 6.8835e-04 - val_loss: 6.8054e-04\n",
            "Epoch 49/100\n",
            "6/6 [==============================] - 0s 12ms/step - loss: 6.7580e-04 - val_loss: 6.7251e-04\n",
            "Epoch 50/100\n",
            "6/6 [==============================] - 0s 11ms/step - loss: 6.6941e-04 - val_loss: 6.6499e-04\n",
            "Epoch 51/100\n",
            "6/6 [==============================] - 0s 12ms/step - loss: 6.6272e-04 - val_loss: 6.5789e-04\n",
            "Epoch 52/100\n",
            "6/6 [==============================] - 0s 12ms/step - loss: 6.6420e-04 - val_loss: 6.5011e-04\n",
            "Epoch 53/100\n",
            "6/6 [==============================] - 0s 13ms/step - loss: 6.4911e-04 - val_loss: 6.4627e-04\n",
            "Epoch 54/100\n",
            "6/6 [==============================] - 0s 11ms/step - loss: 6.5075e-04 - val_loss: 6.4113e-04\n",
            "Epoch 55/100\n",
            "6/6 [==============================] - 0s 11ms/step - loss: 6.4116e-04 - val_loss: 6.3812e-04\n",
            "Epoch 56/100\n",
            "6/6 [==============================] - 0s 12ms/step - loss: 6.3814e-04 - val_loss: 6.3515e-04\n",
            "Epoch 57/100\n",
            "6/6 [==============================] - 0s 11ms/step - loss: 6.3494e-04 - val_loss: 6.3250e-04\n",
            "Epoch 58/100\n",
            "6/6 [==============================] - 0s 11ms/step - loss: 6.3205e-04 - val_loss: 6.2999e-04\n",
            "Epoch 59/100\n",
            "6/6 [==============================] - 0s 12ms/step - loss: 6.2914e-04 - val_loss: 6.2765e-04\n",
            "Epoch 60/100\n",
            "6/6 [==============================] - 0s 12ms/step - loss: 6.2843e-04 - val_loss: 6.2484e-04\n",
            "Epoch 61/100\n",
            "6/6 [==============================] - 0s 11ms/step - loss: 6.2625e-04 - val_loss: 6.2251e-04\n",
            "Epoch 62/100\n",
            "6/6 [==============================] - 0s 14ms/step - loss: 6.2283e-04 - val_loss: 6.2055e-04\n",
            "Epoch 63/100\n",
            "6/6 [==============================] - 0s 12ms/step - loss: 6.2256e-04 - val_loss: 6.1885e-04\n",
            "Epoch 64/100\n",
            "6/6 [==============================] - 0s 12ms/step - loss: 6.1853e-04 - val_loss: 6.1676e-04\n",
            "Epoch 65/100\n",
            "6/6 [==============================] - 0s 11ms/step - loss: 6.1988e-04 - val_loss: 6.1441e-04\n",
            "Epoch 66/100\n",
            "6/6 [==============================] - 0s 12ms/step - loss: 6.1463e-04 - val_loss: 6.1246e-04\n",
            "Epoch 67/100\n",
            "6/6 [==============================] - 0s 11ms/step - loss: 6.1753e-04 - val_loss: 6.1102e-04\n",
            "Epoch 68/100\n",
            "6/6 [==============================] - 0s 12ms/step - loss: 6.1167e-04 - val_loss: 6.0894e-04\n",
            "Epoch 69/100\n",
            "6/6 [==============================] - 0s 12ms/step - loss: 6.0956e-04 - val_loss: 6.0684e-04\n",
            "Epoch 70/100\n",
            "6/6 [==============================] - 0s 11ms/step - loss: 6.0855e-04 - val_loss: 6.0527e-04\n",
            "Epoch 71/100\n",
            "6/6 [==============================] - 0s 13ms/step - loss: 6.0679e-04 - val_loss: 6.0357e-04\n",
            "Epoch 72/100\n",
            "6/6 [==============================] - 0s 13ms/step - loss: 6.0578e-04 - val_loss: 6.0140e-04\n",
            "Epoch 73/100\n",
            "6/6 [==============================] - 0s 13ms/step - loss: 6.0220e-04 - val_loss: 5.9959e-04\n",
            "Epoch 74/100\n",
            "6/6 [==============================] - 0s 11ms/step - loss: 6.0523e-04 - val_loss: 5.9776e-04\n",
            "Epoch 75/100\n",
            "6/6 [==============================] - 0s 12ms/step - loss: 6.0109e-04 - val_loss: 5.9600e-04\n",
            "Epoch 76/100\n",
            "6/6 [==============================] - 0s 12ms/step - loss: 5.9846e-04 - val_loss: 5.9408e-04\n",
            "Epoch 77/100\n",
            "6/6 [==============================] - 0s 12ms/step - loss: 5.9474e-04 - val_loss: 5.9207e-04\n",
            "Epoch 78/100\n",
            "6/6 [==============================] - 0s 12ms/step - loss: 5.9284e-04 - val_loss: 5.9030e-04\n",
            "Epoch 79/100\n",
            "6/6 [==============================] - 0s 12ms/step - loss: 5.9083e-04 - val_loss: 5.8851e-04\n",
            "Epoch 80/100\n",
            "6/6 [==============================] - 0s 13ms/step - loss: 5.8952e-04 - val_loss: 5.8652e-04\n",
            "Epoch 81/100\n",
            "6/6 [==============================] - 0s 12ms/step - loss: 5.9193e-04 - val_loss: 5.8480e-04\n",
            "Epoch 82/100\n",
            "6/6 [==============================] - 0s 12ms/step - loss: 5.8861e-04 - val_loss: 5.8270e-04\n",
            "Epoch 83/100\n",
            "6/6 [==============================] - 0s 12ms/step - loss: 5.8298e-04 - val_loss: 5.8101e-04\n",
            "Epoch 84/100\n",
            "6/6 [==============================] - 0s 12ms/step - loss: 5.8305e-04 - val_loss: 5.7909e-04\n",
            "Epoch 85/100\n",
            "6/6 [==============================] - 0s 12ms/step - loss: 5.7992e-04 - val_loss: 5.7726e-04\n",
            "Epoch 86/100\n",
            "6/6 [==============================] - 0s 12ms/step - loss: 5.7760e-04 - val_loss: 5.7537e-04\n",
            "Epoch 87/100\n",
            "6/6 [==============================] - 0s 12ms/step - loss: 5.7581e-04 - val_loss: 5.7339e-04\n",
            "Epoch 88/100\n",
            "6/6 [==============================] - 0s 12ms/step - loss: 5.7630e-04 - val_loss: 5.7127e-04\n",
            "Epoch 89/100\n",
            "6/6 [==============================] - 0s 14ms/step - loss: 5.7319e-04 - val_loss: 5.6943e-04\n",
            "Epoch 90/100\n",
            "6/6 [==============================] - 0s 12ms/step - loss: 5.7536e-04 - val_loss: 5.6760e-04\n",
            "Epoch 91/100\n",
            "6/6 [==============================] - 0s 12ms/step - loss: 5.6782e-04 - val_loss: 5.6554e-04\n",
            "Epoch 92/100\n",
            "6/6 [==============================] - 0s 13ms/step - loss: 5.6754e-04 - val_loss: 5.6352e-04\n",
            "Epoch 93/100\n",
            "6/6 [==============================] - 0s 12ms/step - loss: 5.6538e-04 - val_loss: 5.6165e-04\n",
            "Epoch 94/100\n",
            "6/6 [==============================] - 0s 12ms/step - loss: 5.6603e-04 - val_loss: 5.5966e-04\n",
            "Epoch 95/100\n",
            "6/6 [==============================] - 0s 12ms/step - loss: 5.6331e-04 - val_loss: 5.5764e-04\n",
            "Epoch 96/100\n",
            "6/6 [==============================] - 0s 11ms/step - loss: 5.6149e-04 - val_loss: 5.5566e-04\n",
            "Epoch 97/100\n",
            "6/6 [==============================] - 0s 13ms/step - loss: 5.5730e-04 - val_loss: 5.5375e-04\n",
            "Epoch 98/100\n",
            "6/6 [==============================] - 0s 12ms/step - loss: 5.5507e-04 - val_loss: 5.5179e-04\n",
            "Epoch 99/100\n",
            "6/6 [==============================] - 0s 12ms/step - loss: 5.5235e-04 - val_loss: 5.4983e-04\n",
            "Epoch 100/100\n",
            "6/6 [==============================] - 0s 11ms/step - loss: 5.5141e-04 - val_loss: 5.4780e-04\n"
          ]
        }
      ],
      "source": [
        "Simple_ANN_history = model.fit_generator(generator=t_gen, epochs = 100, validation_data=t_gen, callbacks=[earlystopper_1])\n"
      ]
    },
    {
      "cell_type": "markdown",
      "source": [
        "##Plot Loss\n",
        "\n",
        "Plotting loss can help to recognise of the error of the model, comparing with validation data to move according to the number of epoch."
      ],
      "metadata": {
        "id": "iOFb-0QHAcx3"
      }
    },
    {
      "cell_type": "code",
      "source": [
        "def plot_loss(history, title):\n",
        "    plt.figure(figsize=(10,6))\n",
        "    plt.plot(history.history['loss'], label='Train')\n",
        "    plt.plot(history.history['val_loss'], label='Validation')\n",
        "    plt.title(title)\n",
        "    plt.xlabel('Nb Epochs')\n",
        "    plt.ylabel('Loss')\n",
        "    plt.legend()\n",
        "    plt.show()\n",
        "    \n",
        "    loss = history.history['loss']\n",
        "    min_idx = np.argmin(loss)\n",
        "    min_loss = loss[min_idx]\n",
        "    print('Minimum loss of {} reached at epoch {}'.format(min_loss, min_idx))\n",
        "    \n",
        "    val_loss = history.history['val_loss']\n",
        "    min_idx = np.argmin(val_loss)\n",
        "    min_val_loss = val_loss[min_idx]\n",
        "    print('Minimum validation loss of {} reached at epoch {}'.format(min_val_loss, min_idx))"
      ],
      "metadata": {
        "id": "gaa0z_P5y5UC"
      },
      "execution_count": null,
      "outputs": []
    },
    {
      "cell_type": "code",
      "source": [
        "plot_loss(Simple_ANN_history, 'Simple ANN - Train & Validation Loss')"
      ],
      "metadata": {
        "colab": {
          "base_uri": "https://localhost:8080/",
          "height": 439
        },
        "id": "0ZHAnSToy6LZ",
        "outputId": "db300caf-cca6-4c5a-be92-544c5375d8d6"
      },
      "execution_count": null,
      "outputs": [
        {
          "output_type": "display_data",
          "data": {
            "image/png": "[encoded data removed]",
            "text/plain": [
              "<Figure size 720x432 with 1 Axes>"
            ]
          },
          "metadata": {
            "needs_background": "light"
          }
        },
        {
          "output_type": "stream",
          "name": "stdout",
          "text": [
            "Minimum loss of 0.000551414443179965 reached at epoch 99\n",
            "Minimum validation loss of 0.0005477978847920895 reached at epoch 99\n"
          ]
        }
      ]
    },
    {
      "cell_type": "markdown",
      "source": [
        "#Making The Predictions\n",
        "\n",
        "The last of making model is to predict data."
      ],
      "metadata": {
        "id": "nRHyPi_oAi7f"
      }
    },
    {
      "cell_type": "code",
      "execution_count": null,
      "metadata": {
        "id": "QjqlHO59Jo79",
        "colab": {
          "base_uri": "https://localhost:8080/"
        },
        "outputId": "eb5ee3ba-77b1-4e0d-de28-9f2bff782fcc"
      },
      "outputs": [
        {
          "output_type": "execute_result",
          "data": {
            "text/plain": [
              "array([[[0.70556745],\n",
              "        [0.9       ],\n",
              "        [0.82034261],\n",
              "        [0.45974304],\n",
              "        [0.27044968],\n",
              "        [0.18993576],\n",
              "        [0.15738758],\n",
              "        [0.13169165],\n",
              "        [0.1       ],\n",
              "        [0.10085653],\n",
              "        [0.12226981],\n",
              "        [0.14368308]]])"
            ]
          },
          "metadata": {},
          "execution_count": 19
        }
      ],
      "source": [
        "pred_list = []\n",
        "\n",
        "batch = train[-n_input:].reshape((1, n_input, 1))\n",
        "batch"
      ]
    },
    {
      "cell_type": "code",
      "execution_count": null,
      "metadata": {
        "id": "y-Y6csj4J-fW",
        "colab": {
          "base_uri": "https://localhost:8080/"
        },
        "outputId": "18fb2c6d-fd78-4750-d434-33b9c6810de7"
      },
      "outputs": [
        {
          "output_type": "execute_result",
          "data": {
            "text/plain": [
              "[array([0.10737815], dtype=float32),\n",
              " array([0.12604818], dtype=float32),\n",
              " array([0.14648247], dtype=float32),\n",
              " array([0.16484964], dtype=float32),\n",
              " array([0.17362407], dtype=float32),\n",
              " array([0.17482942], dtype=float32),\n",
              " array([0.1750978], dtype=float32),\n",
              " array([0.17656863], dtype=float32),\n",
              " array([0.17560348], dtype=float32),\n",
              " array([0.17236498], dtype=float32),\n",
              " array([0.17216632], dtype=float32),\n",
              " array([0.17064902], dtype=float32)]"
            ]
          },
          "metadata": {},
          "execution_count": 20
        }
      ],
      "source": [
        "for i in range(n_input):   \n",
        "    pred_list.append(model.predict(batch)[0]) \n",
        "    batch = np.append(batch[:,1:,:],[[pred_list[i]]],axis=1)\n",
        "\n",
        "pred_list\n"
      ]
    },
    {
      "cell_type": "code",
      "source": [
        "from pandas.tseries.offsets import DateOffset\n",
        "add_dates = [df.index[-7] + DateOffset(months=x) for x in range(0,13) ]\n",
        "future_dates = pd.DataFrame(index=add_dates[1:],columns=df.columns)"
      ],
      "metadata": {
        "id": "vXqzdZZCjNKd"
      },
      "execution_count": null,
      "outputs": []
    },
    {
      "cell_type": "markdown",
      "source": [
        "##Create Table Prediction\n",
        "\n",
        "This table prediction will show the data prediction. Before create the table, it is neccessary to restore data from normalization to real dataset. Of couser, author give back the normalization function that is given in the assignment."
      ],
      "metadata": {
        "id": "lY9tfJhTArFH"
      }
    },
    {
      "cell_type": "code",
      "source": [
        "df_predict = pd.DataFrame(((0.8*(scaler.inverse_transform(pred_list)))+0.1),\n",
        "                          index=future_dates[-n_input:].index, columns=['Prediction'])\n",
        "\n",
        "df_proj = pd.concat([df,df_predict], axis=1)\n",
        "df_proj"
      ],
      "metadata": {
        "colab": {
          "base_uri": "https://localhost:8080/",
          "height": 802
        },
        "id": "EH69Rr72lZsp",
        "outputId": "a9913f63-9274-4ea8-9118-6750067b687c"
      },
      "execution_count": null,
      "outputs": [
        {
          "output_type": "execute_result",
          "data": {
            "text/html": [
              "\n",
              "  <div id=\"df-21c6175e-3f42-4ac4-bca2-f982840cf559\">\n",
              "    <div class=\"colab-df-container\">\n",
              "      <div>\n",
              "<style scoped>\n",
              "    .dataframe tbody tr th:only-of-type {\n",
              "        vertical-align: middle;\n",
              "    }\n",
              "\n",
              "    .dataframe tbody tr th {\n",
              "        vertical-align: top;\n",
              "    }\n",
              "\n",
              "    .dataframe thead th {\n",
              "        text-align: right;\n",
              "    }\n",
              "</style>\n",
              "<table border=\"1\" class=\"dataframe\">\n",
              "  <thead>\n",
              "    <tr style=\"text-align: right;\">\n",
              "      <th></th>\n",
              "      <th>Units</th>\n",
              "      <th>Prediction</th>\n",
              "    </tr>\n",
              "  </thead>\n",
              "  <tbody>\n",
              "    <tr>\n",
              "      <th>2019-01-01</th>\n",
              "      <td>205.0</td>\n",
              "      <td>NaN</td>\n",
              "    </tr>\n",
              "    <tr>\n",
              "      <th>2019-02-01</th>\n",
              "      <td>196.0</td>\n",
              "      <td>NaN</td>\n",
              "    </tr>\n",
              "    <tr>\n",
              "      <th>2019-03-01</th>\n",
              "      <td>141.0</td>\n",
              "      <td>NaN</td>\n",
              "    </tr>\n",
              "    <tr>\n",
              "      <th>2019-04-01</th>\n",
              "      <td>112.0</td>\n",
              "      <td>NaN</td>\n",
              "    </tr>\n",
              "    <tr>\n",
              "      <th>2019-05-01</th>\n",
              "      <td>163.0</td>\n",
              "      <td>NaN</td>\n",
              "    </tr>\n",
              "    <tr>\n",
              "      <th>2019-06-01</th>\n",
              "      <td>242.0</td>\n",
              "      <td>NaN</td>\n",
              "    </tr>\n",
              "    <tr>\n",
              "      <th>2019-07-01</th>\n",
              "      <td>816.0</td>\n",
              "      <td>NaN</td>\n",
              "    </tr>\n",
              "    <tr>\n",
              "      <th>2019-08-01</th>\n",
              "      <td>1043.0</td>\n",
              "      <td>NaN</td>\n",
              "    </tr>\n",
              "    <tr>\n",
              "      <th>2019-09-01</th>\n",
              "      <td>950.0</td>\n",
              "      <td>NaN</td>\n",
              "    </tr>\n",
              "    <tr>\n",
              "      <th>2019-10-01</th>\n",
              "      <td>529.0</td>\n",
              "      <td>NaN</td>\n",
              "    </tr>\n",
              "    <tr>\n",
              "      <th>2019-11-01</th>\n",
              "      <td>308.0</td>\n",
              "      <td>NaN</td>\n",
              "    </tr>\n",
              "    <tr>\n",
              "      <th>2019-12-01</th>\n",
              "      <td>214.0</td>\n",
              "      <td>NaN</td>\n",
              "    </tr>\n",
              "    <tr>\n",
              "      <th>2020-01-01</th>\n",
              "      <td>176.0</td>\n",
              "      <td>167.532957</td>\n",
              "    </tr>\n",
              "    <tr>\n",
              "      <th>2020-02-01</th>\n",
              "      <td>146.0</td>\n",
              "      <td>181.483198</td>\n",
              "    </tr>\n",
              "    <tr>\n",
              "      <th>2020-03-01</th>\n",
              "      <td>109.0</td>\n",
              "      <td>196.751700</td>\n",
              "    </tr>\n",
              "    <tr>\n",
              "      <th>2020-04-01</th>\n",
              "      <td>110.0</td>\n",
              "      <td>210.475650</td>\n",
              "    </tr>\n",
              "    <tr>\n",
              "      <th>2020-05-01</th>\n",
              "      <td>135.0</td>\n",
              "      <td>217.031904</td>\n",
              "    </tr>\n",
              "    <tr>\n",
              "      <th>2020-06-01</th>\n",
              "      <td>160.0</td>\n",
              "      <td>217.932545</td>\n",
              "    </tr>\n",
              "    <tr>\n",
              "      <th>2020-07-01</th>\n",
              "      <td>NaN</td>\n",
              "      <td>218.133071</td>\n",
              "    </tr>\n",
              "    <tr>\n",
              "      <th>2020-08-01</th>\n",
              "      <td>NaN</td>\n",
              "      <td>219.232078</td>\n",
              "    </tr>\n",
              "    <tr>\n",
              "      <th>2020-09-01</th>\n",
              "      <td>NaN</td>\n",
              "      <td>218.510920</td>\n",
              "    </tr>\n",
              "    <tr>\n",
              "      <th>2020-10-01</th>\n",
              "      <td>NaN</td>\n",
              "      <td>216.091113</td>\n",
              "    </tr>\n",
              "    <tr>\n",
              "      <th>2020-11-01</th>\n",
              "      <td>NaN</td>\n",
              "      <td>215.942673</td>\n",
              "    </tr>\n",
              "    <tr>\n",
              "      <th>2020-12-01</th>\n",
              "      <td>NaN</td>\n",
              "      <td>214.808949</td>\n",
              "    </tr>\n",
              "  </tbody>\n",
              "</table>\n",
              "</div>\n",
              "      <button class=\"colab-df-convert\" onclick=\"convertToInteractive('df-21c6175e-3f42-4ac4-bca2-f982840cf559')\"\n",
              "              title=\"Convert this dataframe to an interactive table.\"\n",
              "              style=\"display:none;\">\n",
              "        \n",
              "  <svg xmlns=\"http://www.w3.org/2000/svg\" height=\"24px\"viewBox=\"0 0 24 24\"\n",
              "       width=\"24px\">\n",
              "    <path d=\"M0 0h24v24H0V0z\" fill=\"none\"/>\n",
              "    <path d=\"M18.56 5.44l.94 2.06.94-2.06 2.06-.94-2.06-.94-.94-2.06-.94 2.06-2.06.94zm-11 1L8.5 8.5l.94-2.06 2.06-.94-2.06-.94L8.5 2.5l-.94 2.06-2.06.94zm10 10l.94 2.06.94-2.06 2.06-.94-2.06-.94-.94-2.06-.94 2.06-2.06.94z\"/><path d=\"M17.41 7.96l-1.37-1.37c-.4-.4-.92-.59-1.43-.59-.52 0-1.04.2-1.43.59L10.3 9.45l-7.72 7.72c-.78.78-.78 2.05 0 2.83L4 21.41c.39.39.9.59 1.41.59.51 0 1.02-.2 1.41-.59l7.78-7.78 2.81-2.81c.8-.78.8-2.07 0-2.86zM5.41 20L4 18.59l7.72-7.72 1.47 1.35L5.41 20z\"/>\n",
              "  </svg>\n",
              "      </button>\n",
              "      \n",
              "  <style>\n",
              "    .colab-df-container {\n",
              "      display:flex;\n",
              "      flex-wrap:wrap;\n",
              "      gap: 12px;\n",
              "    }\n",
              "\n",
              "    .colab-df-convert {\n",
              "      background-color: #E8F0FE;\n",
              "      border: none;\n",
              "      border-radius: 50%;\n",
              "      cursor: pointer;\n",
              "      display: none;\n",
              "      fill: #1967D2;\n",
              "      height: 32px;\n",
              "      padding: 0 0 0 0;\n",
              "      width: 32px;\n",
              "    }\n",
              "\n",
              "    .colab-df-convert:hover {\n",
              "      background-color: #E2EBFA;\n",
              "      box-shadow: 0px 1px 2px rgba(60, 64, 67, 0.3), 0px 1px 3px 1px rgba(60, 64, 67, 0.15);\n",
              "      fill: #174EA6;\n",
              "    }\n",
              "\n",
              "    [theme=dark] .colab-df-convert {\n",
              "      background-color: #3B4455;\n",
              "      fill: #D2E3FC;\n",
              "    }\n",
              "\n",
              "    [theme=dark] .colab-df-convert:hover {\n",
              "      background-color: #434B5C;\n",
              "      box-shadow: 0px 1px 3px 1px rgba(0, 0, 0, 0.15);\n",
              "      filter: drop-shadow(0px 1px 2px rgba(0, 0, 0, 0.3));\n",
              "      fill: #FFFFFF;\n",
              "    }\n",
              "  </style>\n",
              "\n",
              "      <script>\n",
              "        const buttonEl =\n",
              "          document.querySelector('#df-21c6175e-3f42-4ac4-bca2-f982840cf559 button.colab-df-convert');\n",
              "        buttonEl.style.display =\n",
              "          google.colab.kernel.accessAllowed ? 'block' : 'none';\n",
              "\n",
              "        async function convertToInteractive(key) {\n",
              "          const element = document.querySelector('#df-21c6175e-3f42-4ac4-bca2-f982840cf559');\n",
              "          const dataTable =\n",
              "            await google.colab.kernel.invokeFunction('convertToInteractive',\n",
              "                                                     [key], {});\n",
              "          if (!dataTable) return;\n",
              "\n",
              "          const docLinkHtml = 'Like what you see? Visit the ' +\n",
              "            '<a target=\"_blank\" href=https://colab.research.google.com/notebooks/data_table.ipynb>data table notebook</a>'\n",
              "            + ' to learn more about interactive tables.';\n",
              "          element.innerHTML = '';\n",
              "          dataTable['output_type'] = 'display_data';\n",
              "          await google.colab.output.renderOutput(dataTable, element);\n",
              "          const docLink = document.createElement('div');\n",
              "          docLink.innerHTML = docLinkHtml;\n",
              "          element.appendChild(docLink);\n",
              "        }\n",
              "      </script>\n",
              "    </div>\n",
              "  </div>\n",
              "  "
            ],
            "text/plain": [
              "             Units  Prediction\n",
              "2019-01-01   205.0         NaN\n",
              "2019-02-01   196.0         NaN\n",
              "2019-03-01   141.0         NaN\n",
              "2019-04-01   112.0         NaN\n",
              "2019-05-01   163.0         NaN\n",
              "2019-06-01   242.0         NaN\n",
              "2019-07-01   816.0         NaN\n",
              "2019-08-01  1043.0         NaN\n",
              "2019-09-01   950.0         NaN\n",
              "2019-10-01   529.0         NaN\n",
              "2019-11-01   308.0         NaN\n",
              "2019-12-01   214.0         NaN\n",
              "2020-01-01   176.0  167.532957\n",
              "2020-02-01   146.0  181.483198\n",
              "2020-03-01   109.0  196.751700\n",
              "2020-04-01   110.0  210.475650\n",
              "2020-05-01   135.0  217.031904\n",
              "2020-06-01   160.0  217.932545\n",
              "2020-07-01     NaN  218.133071\n",
              "2020-08-01     NaN  219.232078\n",
              "2020-09-01     NaN  218.510920\n",
              "2020-10-01     NaN  216.091113\n",
              "2020-11-01     NaN  215.942673\n",
              "2020-12-01     NaN  214.808949"
            ]
          },
          "metadata": {},
          "execution_count": 24
        }
      ]
    },
    {
      "cell_type": "markdown",
      "source": [
        "##Plot Prediction Result"
      ],
      "metadata": {
        "id": "H2dzQ8XNAvck"
      }
    },
    {
      "cell_type": "code",
      "execution_count": null,
      "metadata": {
        "id": "gfxUPjcZZyQF",
        "colab": {
          "base_uri": "https://localhost:8080/",
          "height": 1000
        },
        "outputId": "5b095ea7-af3d-4201-dcab-7df4e579b1aa"
      },
      "outputs": [
        {
          "output_type": "stream",
          "name": "stderr",
          "text": [
            "No handles with labels found to put in legend.\n"
          ]
        },
        {
          "output_type": "display_data",
          "data": {
            "image/png": "[encoded data removed]",
            "text/plain": [
              "<Figure size 1440x1800 with 1 Axes>"
            ]
          },
          "metadata": {
            "needs_background": "light"
          }
        }
      ],
      "source": [
        "plt.figure(figsize=(20, 25))\n",
        "plt.plot(df_proj.index, df_proj['Units'])\n",
        "plt.plot(df_proj.index, df_proj['Prediction'], color='r')\n",
        "plt.legend(loc='best', fontsize='xx-large')\n",
        "plt.xticks(fontsize=18)\n",
        "plt.yticks(fontsize=16)\n",
        "plt.show()"
      ]
    },
    {
      "cell_type": "markdown",
      "source": [
        "#Save Model"
      ],
      "metadata": {
        "id": "pNyWZbnAAy9E"
      }
    },
    {
      "cell_type": "code",
      "source": [
        "model.save('ANN_model.h5')"
      ],
      "metadata": {
        "id": "FQBYKc9WBEce"
      },
      "execution_count": null,
      "outputs": []
    }
  ],
  "metadata": {
    "colab": {
      "name": "ANN-ML_Individu.ipynb",
      "provenance": [],
      "authorship_tag": "ABX9TyO5eOV360qLqPY8wk6jxj5C",
      "include_colab_link": true
    },
    "kernelspec": {
      "display_name": "Python 3",
      "name": "python3"
    },
    "language_info": {
      "name": "python"
    }
  },
  "nbformat": 4,
  "nbformat_minor": 0
}